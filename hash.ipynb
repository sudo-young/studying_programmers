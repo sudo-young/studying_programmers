{
 "cells": [
  {
   "cell_type": "markdown",
   "id": "ec948fe3-bb45-4144-98c4-d4a4b0015738",
   "metadata": {},
   "source": [
    "# 전화번호 목록"
   ]
  },
  {
   "cell_type": "markdown",
   "id": "d92b55eb-7221-4720-9b97-5880768bed61",
   "metadata": {},
   "source": [
    "## 문제 설명\n",
    "전화번호부에 적힌 전화번호 중, 한 번호가 다른 번호의 접두어인 경우가 있는지 확인하려 합니다.\n",
    "전화번호가 다음과 같을 경우, 구조대 전화번호는 영석이의 전화번호의 접두사입니다.\n",
    "\n",
    "- 구조대 : 119\n",
    "- 박준영 : 97 674 223\n",
    "- 지영석 : 11 9552 4421\n",
    "  \n",
    "전화번호부에 적힌 전화번호를 담은 배열 phone_book 이 solution 함수의 매개변수로 주어질 때, 어떤 번호가 다른 번호의 접두어인 경우가 있으면 false를 그렇지 않으면 true를 return 하도록 solution 함수를 작성해주세요.\n",
    "\n",
    "### 제한 사항\n",
    "- phone_book의 길이는 1 이상 1,000,000 이하입니다.\n",
    "- 각 전화번호의 길이는 1 이상 20 이하입니다.\n",
    "- 같은 전화번호가 중복해서 들어있지 않습니다.\n",
    "\n",
    "  \n",
    "### 입출력 예제\n",
    "phone_book\treturn\n",
    "\n",
    "[\"119\", \"97674223\", \"1195524421\"]\tfalse\n",
    "\n",
    "[\"123\",\"456\",\"789\"]\ttrue\n",
    "\n",
    "[\"12\",\"123\",\"1235\",\"567\",\"88\"]\tfalse\n",
    "\n",
    "\n",
    "### 입출력 예 설명\n",
    "입출력 예 #1\n",
    "앞에서 설명한 예와 같습니다.\n",
    "\n",
    "입출력 예 #2\n",
    "한 번호가 다른 번호의 접두사인 경우가 없으므로, 답은 true입니다.\n",
    "\n",
    "입출력 예 #3\n",
    "첫 번째 전화번호, “12”가 두 번째 전화번호 “123”의 접두사입니다. 따라서 답은 false입니다."
   ]
  },
  {
   "cell_type": "markdown",
   "id": "8e8165ae-36ba-46d9-9dd1-beefb0fb893b",
   "metadata": {},
   "source": [
    "### 어떻게 풀것인가\n",
    "- input : list ; [sting1, string2, string3, ... ]\n",
    "- \n",
    "- 길이 순으로 정렬\n",
    "- 바로 뒤 숫자에 포함되는지 확인?\n",
    "- \n",
    "\n"
   ]
  },
  {
   "cell_type": "code",
   "execution_count": 102,
   "id": "7cef821f-0e59-4ebd-896b-e71cadea6045",
   "metadata": {},
   "outputs": [],
   "source": [
    "def phonebook(phone_book):\n",
    "    answer = True\n",
    "    phone_book.sort()\n",
    "    i = 1\n",
    "    for ns in phone_book:\n",
    "        if i < len(phone_book) and ns[0] == phone_book[i][0] and ns in phone_book[i]:\n",
    "            answer = False\n",
    "            break\n",
    "        i += 1\n",
    "    return answer"
   ]
  },
  {
   "cell_type": "code",
   "execution_count": 101,
   "id": "1595e0af-5d34-4fe6-877a-0fd67a6e4ee6",
   "metadata": {},
   "outputs": [
    {
     "data": {
      "text/plain": [
       "True"
      ]
     },
     "execution_count": 101,
     "metadata": {},
     "output_type": "execute_result"
    }
   ],
   "source": [
    "Abook = [\"12\",\"123\",\"1235\",\"567\",\"88\"]\n",
    "Bbook= [\"119\", \"97674223\", \"1195524421\"]\n",
    "Cbook=[\"123\",\"456\",\"789\"]\n",
    "phonebook(Cbook)\n",
    "# print('i=', i, 'ns= ',ns)"
   ]
  },
  {
   "cell_type": "code",
   "execution_count": 103,
   "id": "25ac4557-656e-4fa6-9502-b65edad89e1c",
   "metadata": {},
   "outputs": [],
   "source": [
    "def shortbook(phone_book):\n",
    "    answer = True \n",
    "    phone_book.sort()\n",
    "    for ns, nns in zip(phone_book, phone_book[1:]):\n",
    "        if nns.startswith(ns):\n",
    "            answer = False\n",
    "    return answer"
   ]
  },
  {
   "cell_type": "code",
   "execution_count": 104,
   "id": "119eea83-caa7-4c9b-a40c-5f3d23cdfe30",
   "metadata": {},
   "outputs": [
    {
     "data": {
      "text/plain": [
       "False"
      ]
     },
     "execution_count": 104,
     "metadata": {},
     "output_type": "execute_result"
    }
   ],
   "source": [
    "shortbook(Bbook)"
   ]
  },
  {
   "cell_type": "code",
   "execution_count": 92,
   "id": "fb13f74f-4ca6-4fe0-9d68-432708fad54b",
   "metadata": {},
   "outputs": [
    {
     "name": "stdout",
     "output_type": "stream",
     "text": [
      "yes\n"
     ]
    }
   ],
   "source": [
    "# for k in Abook:\n",
    "if '12' in '23124':\n",
    "    print('yes')\n",
    "else:\n",
    "    print('no')"
   ]
  },
  {
   "cell_type": "code",
   "execution_count": 66,
   "id": "6523ab18-a524-48d8-86d4-489db15afd81",
   "metadata": {},
   "outputs": [],
   "source": [
    "kk = [\"97674223\", \"1195524421\", \"1019\",\"2\",'7','5','6']\n",
    "kk.sort()\n",
    "answer = True\n",
    "# for i,k in enumerate(kk):\n",
    "#     print(i,k)\n",
    "i = 1\n",
    "for n in kk:\n",
    "    if i<len(kk) and n == kk[i]:\n",
    "        answer = False\n",
    "        print(n, kk[i+1])\n",
    "        break\n",
    "    i += 1\n",
    "# print(kk)"
   ]
  },
  {
   "cell_type": "code",
   "execution_count": 67,
   "id": "afe3a85d-856e-4d53-9e23-0ca1d972ffbe",
   "metadata": {},
   "outputs": [
    {
     "data": {
      "text/plain": [
       "True"
      ]
     },
     "execution_count": 67,
     "metadata": {},
     "output_type": "execute_result"
    }
   ],
   "source": [
    "answer"
   ]
  },
  {
   "cell_type": "code",
   "execution_count": 40,
   "id": "f6477b1c-bed4-43d8-87e2-269cc85de1f1",
   "metadata": {},
   "outputs": [
    {
     "name": "stdout",
     "output_type": "stream",
     "text": [
      "119\n",
      "1195524421\n",
      "2\n",
      "5\n",
      "6\n",
      "7\n",
      "97674223\n"
     ]
    }
   ],
   "source": [
    "for i, h in enumerate(kk):\n",
    "    if kk[i] in h:\n",
    "        print(kk[i])"
   ]
  },
  {
   "cell_type": "code",
   "execution_count": 41,
   "id": "e55bea64-8f38-4ac2-9b0e-118fbc5d86c6",
   "metadata": {},
   "outputs": [
    {
     "data": {
      "text/plain": [
       "10"
      ]
     },
     "execution_count": 41,
     "metadata": {},
     "output_type": "execute_result"
    }
   ],
   "source": [
    "len(k)"
   ]
  },
  {
   "cell_type": "markdown",
   "id": "648eaffb-863f-41c6-85c5-8a91a9cb9fcf",
   "metadata": {},
   "source": [
    "# 폰켓몬"
   ]
  },
  {
   "cell_type": "markdown",
   "id": "690fff03-cb90-4faa-9e45-1cd5f336757f",
   "metadata": {},
   "source": [
    "## 문제 설명\n",
    "당신은 폰켓몬을 잡기 위한 오랜 여행 끝에, 홍 박사님의 연구실에 도착했습니다. 홍 박사님은 당신에게 자신의 연구실에 있는 총 N 마리의 폰켓몬 중에서 N/2마리를 가져가도 좋다고 했습니다.\n",
    "\n",
    "홍 박사님 연구실의 폰켓몬은 종류에 따라 번호를 붙여 구분합니다. 따라서 같은 종류의 폰켓몬은 같은 번호를 가지고 있습니다. 예를 들어 연구실에 총 4마리의 폰켓몬이 있고, 각 폰켓몬의 종류 번호가 [3번, 1번, 2번, 3번]이라면 이는 3번 폰켓몬 두 마리, 1번 폰켓몬 한 마리, 2번 폰켓몬 한 마리가 있음을 나타냅니다. 이때, 4마리의 폰켓몬 중 2마리를 고르는 방법은 다음과 같이 6가지가 있습니다.\n",
    "\n",
    "- 첫 번째(3번), 두 번째(1번) 폰켓몬을 선택\n",
    "- 첫 번째(3번), 세 번째(2번) 폰켓몬을 선택\n",
    "- 첫 번째(3번), 네 번째(3번) 폰켓몬을 선택\n",
    "- 두 번째(1번), 세 번째(2번) 폰켓몬을 선택\n",
    "- 두 번째(1번), 네 번째(3번) 폰켓몬을 선택\n",
    "- 세 번째(2번), 네 번째(3번) 폰켓몬을 선택\n",
    "\n",
    "이때, 첫 번째(3번) 폰켓몬과 네 번째(3번) 폰켓몬을 선택하는 방법은 한 종류(3번 폰켓몬 두 마리)의 폰켓몬만 가질 수 있지만, 다른 방법들은 모두 두 종류의 폰켓몬을 가질 수 있습니다. 따라서 위 예시에서 가질 수 있는 폰켓몬 종류 수의 최댓값은 2가 됩니다.\n",
    "\n",
    "당신은 최대한 다양한 종류의 폰켓몬을 가지길 원하기 때문에, 최대한 많은 종류의 폰켓몬을 포함해서 N/2마리를 선택하려 합니다. N마리 폰켓몬의 종류 번호가 담긴 배열 nums가 매개변수로 주어질 때, N/2마리의 폰켓몬을 선택하는 방법 중, 가장 많은 종류의 폰켓몬을 선택하는 방법을 찾아, 그때의 폰켓몬 종류 번호의 개수를 return 하도록 solution 함수를 완성해주세요.\n",
    "\n",
    "\n",
    "## 제한사항\n",
    "- nums는 폰켓몬의 종류 번호가 담긴 1차원 배열입니다.\n",
    "- nums의 길이(N)는 1 이상 10,000 이하의 자연수이며, 항상 짝수로 주어집니다.\n",
    "- 폰켓몬의 종류 번호는 1 이상 200,000 이하의 자연수로 나타냅니다.\n",
    "- 가장 많은 종류의 폰켓몬을 선택하는 방법이 여러 가지인 경우에도, 선택할 수 있는 폰켓몬 종류 개수의 최댓값 하나만 return 하면 됩니다.\n",
    "## 입출력 예\n",
    "nums\tresult\n",
    "\n",
    "[3,1,2,3]\t2\n",
    "\n",
    "[3,3,3,2,2,4]\t3\n",
    "\n",
    "[3,3,3,2,2,2]\t2\n",
    "\n",
    "입출력 예 설명\n",
    "### 입출력 예 #1\n",
    "문제의 예시와 같습니다.\n",
    "\n",
    "### 입출력 예 #2\n",
    "6마리의 폰켓몬이 있으므로, 3마리의 폰켓몬을 골라야 합니다.\n",
    "가장 많은 종류의 폰켓몬을 고르기 위해서는 3번 폰켓몬 한 마리, 2번 폰켓몬 한 마리, 4번 폰켓몬 한 마리를 고르면 되며, 따라서 3을 return 합니다.\n",
    "\n",
    "### 입출력 예 #3\n",
    "6마리의 폰켓몬이 있으므로, 3마리의 폰켓몬을 골라야 합니다.\n",
    "가장 많은 종류의 폰켓몬을 고르기 위해서는 3번 폰켓몬 한 마리와 2번 폰켓몬 두 마리를 고르거나, 혹은 3번 폰켓몬 두 마리와 2번 폰켓몬 한 마리를 고르면 됩니다. 따라서 최대 고를 수 있는 폰켓몬 종류의 수는 2입니다."
   ]
  },
  {
   "cell_type": "markdown",
   "id": "55661ac8-5781-43f9-8b8c-7d00a42fd841",
   "metadata": {},
   "source": [
    "How to solve... ?\n",
    "\n",
    "- N 마리중에 N/2마리를 골라야함\n",
    "- len(nums) and len(nums)/2\n",
    "- \n"
   ]
  },
  {
   "cell_type": "code",
   "execution_count": 158,
   "id": "5ecd9574-4286-4224-a346-f21cfa03858b",
   "metadata": {},
   "outputs": [],
   "source": [
    "def pocketmons(nums):\n",
    "    answer =0 \n",
    "    total = len(nums)\n",
    "    nums.sort()\n",
    "    \n",
    "    picks = []\n",
    "    check = 0\n",
    "    \n",
    "    for item in nums:\n",
    "        if item == check:\n",
    "            pass\n",
    "        elif item != check and len(picks) < total/2:\n",
    "            check = item \n",
    "            picks.append(check)\n",
    "\n",
    "    answer = len(picks)\n",
    "    return answer "
   ]
  },
  {
   "cell_type": "code",
   "execution_count": 161,
   "id": "98ff463c-14ba-4af9-89f8-000a897d7edc",
   "metadata": {},
   "outputs": [
    {
     "name": "stdout",
     "output_type": "stream",
     "text": [
      "2 pass\n",
      "2 pass\n",
      "3 pass\n",
      "3 pass\n"
     ]
    },
    {
     "data": {
      "text/plain": [
       "2"
      ]
     },
     "execution_count": 161,
     "metadata": {},
     "output_type": "execute_result"
    }
   ],
   "source": [
    "# [3,1,2,3]\t2\n",
    "\n",
    "# [3,3,3,2,2,4]\t3\n",
    "\n",
    "# [3,3,3,2,2,2]\t2\n",
    "pocketmons([3,3,3,2,2,2])"
   ]
  },
  {
   "cell_type": "code",
   "execution_count": 162,
   "id": "fb086084-ca83-47ad-861f-e7f814201ed3",
   "metadata": {},
   "outputs": [],
   "source": [
    "def shortketmon(nums):\n",
    "    return min(len(nums)/2, len(set(nums)))"
   ]
  },
  {
   "cell_type": "code",
   "execution_count": 163,
   "id": "dbb4cfb0-71ca-4e2d-9975-f42375076cf6",
   "metadata": {},
   "outputs": [
    {
     "data": {
      "text/plain": [
       "2"
      ]
     },
     "execution_count": 163,
     "metadata": {},
     "output_type": "execute_result"
    }
   ],
   "source": [
    "# [3,1,2,3]\t2\n",
    "\n",
    "# [3,3,3,2,2,4]\t3\n",
    "\n",
    "# [3,3,3,2,2,2]\t2\n",
    "shortketmon([3,3,3,2,2,2])"
   ]
  },
  {
   "cell_type": "markdown",
   "id": "7f3f2382-977e-4a97-befe-d46c6f8c61ac",
   "metadata": {},
   "source": [
    "# 완주하지 못한 선수"
   ]
  },
  {
   "cell_type": "markdown",
   "id": "830f732e-436f-4cce-a86a-7382bffe44d6",
   "metadata": {},
   "source": [
    "## 문제 설명\n",
    "수많은 마라톤 선수들이 마라톤에 참여하였습니다. 단 한 명의 선수를 제외하고는 모든 선수가 마라톤을 완주하였습니다.\n",
    "\n",
    "마라톤에 참여한 선수들의 이름이 담긴 배열 participant와 완주한 선수들의 이름이 담긴 배열 completion이 주어질 때, 완주하지 못한 선수의 이름을 return 하도록 solution 함수를 작성해주세요.\n",
    "\n",
    "## 제한사항\n",
    "- 마라톤 경기에 참여한 선수의 수는 1명 이상 100,000명 이하입니다.\n",
    "- completion의 길이는 participant의 길이보다 1 작습니다.\n",
    "- 참가자의 이름은 1개 이상 20개 이하의 알파벳 소문자로 이루어져 있습니다.\n",
    "- 참가자 중에는 동명이인이 있을 수 있습니다.\n",
    "\n",
    "\n",
    "## 입출력 예\n",
    "### participant\tcompletion\treturn\n",
    "[\"leo\", \"kiki\", \"eden\"]\t[\"eden\", \"kiki\"]\t\"leo\"\n",
    "\n",
    "[\"marina\", \"josipa\", \"nikola\", \"vinko\", \"filipa\"]\t[\"josipa\", \"filipa\", \"marina\", \"nikola\"]\t\"vinko\"\n",
    "\n",
    "\n",
    "[\"mislav\", \"stanko\", \"mislav\", \"ana\"]\t[\"stanko\", \"ana\", \"mislav\"]\t\"mislav\"\n",
    "\n",
    "\n",
    "## 입출력 예 설명\n",
    "### 예제 #1\n",
    "\"leo\"는 참여자 명단에는 있지만, 완주자 명단에는 없기 때문에 완주하지 못했습니다.\n",
    "\n",
    "### 예제 #2\n",
    "\"vinko\"는 참여자 명단에는 있지만, 완주자 명단에는 없기 때문에 완주하지 못했습니다.\n",
    "\n",
    "### 예제 #3\n",
    "\"mislav\"는 참여자 명단에는 두 명이 있지만, 완주자 명단에는 한 명밖에 없기 때문에 한명은 완주하지 못했습니다.\n",
    "\n"
   ]
  },
  {
   "cell_type": "code",
   "execution_count": 171,
   "id": "562e5f03-76ce-4252-b92f-267ac0503905",
   "metadata": {},
   "outputs": [],
   "source": [
    "def marathon(participants, completion):\n",
    "    answer = ''\n",
    "    participants.sort()\n",
    "    completion.sort()\n",
    "    completion.append(\"zzzzzz\")\n",
    "    for par, com in zip(participants, completion):\n",
    "        if par == com:\n",
    "            pass\n",
    "        elif par != com:\n",
    "            answer = par\n",
    "            break\n",
    "    return answer"
   ]
  },
  {
   "cell_type": "code",
   "execution_count": 172,
   "id": "ba9fe3b0-dd1f-4ff2-b8ba-7cb41b96bf81",
   "metadata": {},
   "outputs": [
    {
     "data": {
      "text/plain": [
       "'filipa'"
      ]
     },
     "execution_count": 172,
     "metadata": {},
     "output_type": "execute_result"
    }
   ],
   "source": [
    "par = [\"marina\", \"josipa\", \"nikola\", \"vinko\", \"filipa\"]\t\n",
    "com = [\"josipa\", \"marina\", \"vinko\",\"nikola\"]\t\n",
    "marathon(par, com)"
   ]
  },
  {
   "cell_type": "code",
   "execution_count": 173,
   "id": "61a0b54a-22d6-4b24-b7ef-53373b67d4b5",
   "metadata": {},
   "outputs": [],
   "source": [
    "# import collections\n",
    "\n",
    "\n",
    "# def solution(participant, completion):\n",
    "#     answer = collections.Counter(participant) - collections.Counter(completion)\n",
    "#     return list(answer.keys())[0]"
   ]
  },
  {
   "cell_type": "markdown",
   "id": "958e5825-3ab8-411e-9390-dac3c2ffa532",
   "metadata": {},
   "source": [
    "# 의상"
   ]
  },
  {
   "cell_type": "markdown",
   "id": "b5358e80-0226-41d2-8977-e047ced0bbb3",
   "metadata": {},
   "source": [
    "## 문제설명\n",
    "코니는 매일 다른 옷을 조합하여 입는것을 좋아합니다.\n",
    "\n",
    "예를 들어 코니가 가진 옷이 아래와 같고, 오늘 코니가 동그란 안경, 긴 코트, 파란색 티셔츠를 입었다면 다음날은 청바지를 추가로 입거나 동그란 안경 대신 검정 선글라스를 착용하거나 해야합니다.\n",
    "\n",
    "### 종류 : 이름\n",
    "- 얼굴\t: 동그란 안경, 검정 선글라스\n",
    "- 상의\t: 파란색 티셔츠\n",
    "- 하의\t: 청바지\n",
    "- 겉옷 : 긴 코트\n",
    "\n",
    "\n",
    "-\n",
    "- 코니는 각 종류별로 최대 1가지 의상만 착용할 수 있습니다. 예를 들어 위 예시의 경우 동그란 안경과 검정 선글라스를 동시에 착용할 수는 없습니다.\n",
    "\n",
    "- 착용한 의상의 일부가 겹치더라도, 다른 의상이 겹치지 않거나, 혹은 의상을 추가로 더 착용한 경우에는 서로 다른 방법으로 옷을 착용한 것으로 계산합니다.\n",
    "\n",
    "- 코니는 하루에 최소 한 개의 의상은 입습니다.\n",
    "\n",
    "\n",
    "코니가 가진 의상들이 담긴 2차원 배열 clothes가 주어질 때 서로 다른 옷의 조합의 수를 return 하도록 solution 함수를 작성해주세요.\n",
    "\n",
    "## 제한사항\n",
    "- clothes의 각 행은 [의상의 이름, 의상의 종류]로 이루어져 있습니다.\n",
    "- 코니가 가진 의상의 수는 1개 이상 30개 이하입니다.\n",
    "- 같은 이름을 가진 의상은 존재하지 않습니다.\n",
    "- clothes의 모든 원소는 문자열로 이루어져 있습니다.\n",
    "- 모든 문자열의 길이는 1 이상 20 이하인 자연수이고 알파벳 소문자 또는 '_' 로만 이루어져 있습니다.\n",
    "\n",
    "### 입출력 예\n",
    "- clothes\t: return\n",
    "\n",
    "- [[\"yellow_hat\", \"headgear\"], [\"blue_sunglasses\", \"eyewear\"], [\"green_turban\", \"headgear\"]] :\t5\n",
    "\n",
    "\n",
    "- [[\"crow_mask\", \"face\"], [\"blue_sunglasses\", \"face\"], [\"smoky_makeup\", \"face\"]] :\t3\n",
    "\n",
    "입출력 예 설명\n",
    "### 예제 #1\n",
    "headgear에 해당하는 의상이 yellow_hat, green_turban이고 eyewear에 해당하는 의상이 blue_sunglasses이므로 아래와 같이 5개의 조합이 가능합니다.\n",
    "\n",
    "1. yellow_hat\n",
    "2. blue_sunglasses\n",
    "3. green_turban\n",
    "4. yellow_hat + blue_sunglasses\n",
    "5. green_turban + blue_sunglasses\n",
    "\n",
    "\n",
    "### 예제 #2\n",
    "face에 해당하는 의상이 crow_mask, blue_sunglasses, smoky_makeup이므로 아래와 같이 3개의 조합이 가능합니다.\n",
    "\n",
    "1. crow_mask\n",
    "2. blue_sunglasses\n",
    "3. smoky_makeup\n"
   ]
  },
  {
   "cell_type": "code",
   "execution_count": 263,
   "id": "1b419c9b-f7b9-457e-86c3-53ef1507787e",
   "metadata": {},
   "outputs": [],
   "source": [
    "Acom = [[\"yellow_hat\", \"headgear\"], [\"blue_sunglasses\", \"eyewear\"], [\"green_turban\", \"headgear\"]]\n",
    "Bcom = [[\"crow_mask\", \"face\"], [\"blue_sunglasses\", \"face\"], [\"smoky_makeup\", \"face\"]]"
   ]
  },
  {
   "cell_type": "code",
   "execution_count": 257,
   "id": "c9b2d358-59bc-44c4-a83e-23e5bbb485c7",
   "metadata": {},
   "outputs": [
    {
     "data": {
      "text/plain": [
       "['e', 'y', 'e', 'w', 'e', 'a', 'r']"
      ]
     },
     "execution_count": 257,
     "metadata": {},
     "output_type": "execute_result"
    }
   ],
   "source": [
    "onelist = Acom[1][1]\n",
    "list(onelist)"
   ]
  },
  {
   "cell_type": "code",
   "execution_count": 262,
   "id": "39aa87ee-4554-424c-ae99-9514b5c0a811",
   "metadata": {},
   "outputs": [
    {
     "data": {
      "text/plain": [
       "[['yellow_hat', 'headgear'],\n",
       " ['blue_sunglasses', 'eyewear'],\n",
       " ['green_turban', 'headgear']]"
      ]
     },
     "execution_count": 262,
     "metadata": {},
     "output_type": "execute_result"
    }
   ],
   "source": [
    "Acom"
   ]
  },
  {
   "cell_type": "code",
   "execution_count": 268,
   "id": "81de8c2d-6e67-467c-b985-2516bbf799a7",
   "metadata": {},
   "outputs": [],
   "source": [
    "Adict = dict(Acom)"
   ]
  },
  {
   "cell_type": "code",
   "execution_count": 269,
   "id": "192fa17a-a201-4592-9586-927031b3a8c0",
   "metadata": {},
   "outputs": [
    {
     "data": {
      "text/plain": [
       "{'yellow_hat': 'headgear',\n",
       " 'blue_sunglasses': 'eyewear',\n",
       " 'green_turban': 'headgear'}"
      ]
     },
     "execution_count": 269,
     "metadata": {},
     "output_type": "execute_result"
    }
   ],
   "source": [
    "Adict"
   ]
  },
  {
   "cell_type": "code",
   "execution_count": null,
   "id": "90859299-2f39-4dcc-a168-35ceefbe7a67",
   "metadata": {},
   "outputs": [],
   "source": []
  },
  {
   "cell_type": "code",
   "execution_count": 271,
   "id": "d255496b-dc88-422b-96ba-ba4fef305550",
   "metadata": {},
   "outputs": [
    {
     "data": {
      "text/plain": [
       "{'headgear': 'green_turban', 'eyewear': 'blue_sunglasses'}"
      ]
     },
     "execution_count": 271,
     "metadata": {},
     "output_type": "execute_result"
    }
   ],
   "source": [
    "{v:k for k,v in Adict.items()}"
   ]
  },
  {
   "cell_type": "code",
   "execution_count": 258,
   "id": "61742a83-ed32-42ab-9149-f8463ef21574",
   "metadata": {},
   "outputs": [],
   "source": [
    "from collections import Counter"
   ]
  },
  {
   "cell_type": "code",
   "execution_count": 287,
   "id": "2aa46323-a601-421b-b3c2-103601630b2e",
   "metadata": {},
   "outputs": [],
   "source": [
    "kindscnt = Counter(Adict.values())"
   ]
  },
  {
   "cell_type": "code",
   "execution_count": 291,
   "id": "87bcd2e2-3741-440e-8371-c7a3a4663825",
   "metadata": {},
   "outputs": [],
   "source": [
    "kindscnt = dict(kindscnt)"
   ]
  },
  {
   "cell_type": "code",
   "execution_count": 298,
   "id": "0a8d4ee5-b959-41e4-9ddd-d916d72399fe",
   "metadata": {},
   "outputs": [
    {
     "name": "stdout",
     "output_type": "stream",
     "text": [
      "headgear <class 'int'>\n",
      "eyewear <class 'int'>\n"
     ]
    }
   ],
   "source": [
    "for key,value in kindscnt.items():\n",
    "    print(key, type(value))"
   ]
  },
  {
   "cell_type": "code",
   "execution_count": 296,
   "id": "7609edb1-df33-4da1-ac0d-14707eb0af7f",
   "metadata": {},
   "outputs": [
    {
     "data": {
      "text/plain": [
       "dict"
      ]
     },
     "execution_count": 296,
     "metadata": {},
     "output_type": "execute_result"
    }
   ],
   "source": [
    "type(kindscnt)"
   ]
  },
  {
   "cell_type": "code",
   "execution_count": 307,
   "id": "393ae955-00db-4404-96f0-d3582846291a",
   "metadata": {},
   "outputs": [],
   "source": [
    "def defconfit(clothes):\n",
    "    defcon = dict(clothes)\n",
    "    dclothe = dict(Counter(defcon.values()))\n",
    "    answer = 1\n",
    "    for k,v in dclothe.items():\n",
    "        answer = answer*(v + 1)\n",
    "    answer -=1\n",
    "    return answer"
   ]
  },
  {
   "cell_type": "code",
   "execution_count": 308,
   "id": "12f3c4cf-5806-489d-9572-68f47d2ebef1",
   "metadata": {},
   "outputs": [
    {
     "data": {
      "text/plain": [
       "3"
      ]
     },
     "execution_count": 308,
     "metadata": {},
     "output_type": "execute_result"
    }
   ],
   "source": [
    "defconfit([[\"crow_mask\", \"face\"], [\"blue_sunglasses\", \"face\"], [\"smoky_makeup\", \"face\"]])"
   ]
  },
  {
   "cell_type": "code",
   "execution_count": null,
   "id": "ec94335d-5fe9-444a-81ad-83e1a1a5be3f",
   "metadata": {},
   "outputs": [],
   "source": []
  }
 ],
 "metadata": {
  "kernelspec": {
   "display_name": "Python 3 (ipykernel)",
   "language": "python",
   "name": "python3"
  },
  "language_info": {
   "codemirror_mode": {
    "name": "ipython",
    "version": 3
   },
   "file_extension": ".py",
   "mimetype": "text/x-python",
   "name": "python",
   "nbconvert_exporter": "python",
   "pygments_lexer": "ipython3",
   "version": "3.9.18"
  }
 },
 "nbformat": 4,
 "nbformat_minor": 5
}
