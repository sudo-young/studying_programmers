{
 "cells": [
  {
   "cell_type": "markdown",
   "id": "3f0bc998-dc47-4335-8e1f-4ed521e005fd",
   "metadata": {},
   "source": [
    "ng.keys('muzi') startwith -> +1 // endwith -> -1"
   ]
  },
  {
   "cell_type": "code",
   "execution_count": 243,
   "id": "5660c62c-ab6f-4c61-a4ac-4c60bcd20789",
   "metadata": {},
   "outputs": [
    {
     "name": "stdout",
     "output_type": "stream",
     "text": [
      "muzi frodo\n",
      "ryan muzi\n",
      "frodo muzi\n",
      "frodo ryan\n",
      "neo muzi\n"
     ]
    }
   ],
   "source": [
    "for k,v in ng.items():\n",
    "    if k"
   ]
  },
  {
   "cell_type": "code",
   "execution_count": null,
   "id": "9984fed5-4063-4cb2-8b15-e6011548cb27",
   "metadata": {},
   "outputs": [],
   "source": [
    "def solution(friends, gifts):\n",
    "    answer = 0\n",
    "    \n",
    "\n",
    "    \n",
    "    return answer"
   ]
  },
  {
   "cell_type": "code",
   "execution_count": 275,
   "id": "71031001-33c6-4569-bbcc-6eeaf12203b4",
   "metadata": {},
   "outputs": [
    {
     "name": "stdout",
     "output_type": "stream",
     "text": [
      "1\n"
     ]
    }
   ],
   "source": [
    "xyz = [1,2,3,4,5]\n",
    "xcnt = Counter(xyz)\n",
    "# xcnt = dict(xcnt)\n",
    "print(xcnt.get(3))"
   ]
  },
  {
   "cell_type": "code",
   "execution_count": 5,
   "id": "b4c39035-e63a-45f4-a165-8060337e80a1",
   "metadata": {},
   "outputs": [],
   "source": [
    "from collections import Counter "
   ]
  },
  {
   "cell_type": "code",
   "execution_count": 6,
   "id": "63f67dcf-d981-430e-a72b-a254b1fe6052",
   "metadata": {},
   "outputs": [],
   "source": [
    "\n",
    "\n",
    "def solution(array, n):\n",
    "    answer = 0\n",
    "    ncnt = Counter(array)\n",
    "    return ncnt.get(n)"
   ]
  },
  {
   "cell_type": "code",
   "execution_count": 7,
   "id": "4da2f44b-134c-446a-bee4-69c46b8443d2",
   "metadata": {},
   "outputs": [
    {
     "data": {
      "text/plain": [
       "5"
      ]
     },
     "execution_count": 7,
     "metadata": {},
     "output_type": "execute_result"
    }
   ],
   "source": [
    "hh = [1,2,3,4,5,4,3,2,1,1,1,1]\n",
    "solution(hh,1)"
   ]
  },
  {
   "cell_type": "code",
   "execution_count": 26,
   "id": "68b42f6b-bf58-46f5-9cc8-a86a80d06ed6",
   "metadata": {},
   "outputs": [],
   "source": [
    "def solution(rsp):\n",
    "    answer = ''\n",
    "    for i in rsp:\n",
    "        if i =='2':\n",
    "            answer+='0'\n",
    "        elif i =='0':\n",
    "            answer+='5'\n",
    "        elif i =='5':\n",
    "            answer+= '2'\n",
    "    # return ''.join(answer)\n",
    "    # x = print(answer[f] for f in range(len(answer)))\n",
    "    return answer"
   ]
  },
  {
   "cell_type": "code",
   "execution_count": 33,
   "id": "0f12f65a-0f1d-4439-91a8-cdb9f2376553",
   "metadata": {},
   "outputs": [
    {
     "name": "stdout",
     "output_type": "stream",
     "text": [
      "80 77\n"
     ]
    }
   ],
   "source": [
    "import numpy as np\n",
    "aaa=[12,34,5,6,77,80]\n",
    "x = max(aaa)\n",
    "aaa.pop(np.argmax(aaa))\n",
    "y = max(aaa)\n",
    "print(x,y)"
   ]
  },
  {
   "cell_type": "code",
   "execution_count": 43,
   "id": "543bf604-707d-440e-a463-00cc6dddf548",
   "metadata": {},
   "outputs": [
    {
     "name": "stdout",
     "output_type": "stream",
     "text": [
      "65 90 97 122\n"
     ]
    }
   ],
   "source": [
    "print(ord('A'), ord('Z'), ord('a'), ord('z'))"
   ]
  },
  {
   "cell_type": "code",
   "execution_count": 44,
   "id": "94845e9c-ffca-4a7d-b8d1-8ee0edac7fc6",
   "metadata": {},
   "outputs": [
    {
     "name": "stdout",
     "output_type": "stream",
     "text": [
      "32 32\n"
     ]
    }
   ],
   "source": [
    "print(97-65, 122-90)"
   ]
  },
  {
   "cell_type": "code",
   "execution_count": 49,
   "id": "af3dfe5e-8a62-448d-8ad1-3fb2d64d7249",
   "metadata": {},
   "outputs": [
    {
     "data": {
      "text/plain": [
       "'z'"
      ]
     },
     "execution_count": 49,
     "metadata": {},
     "output_type": "execute_result"
    }
   ],
   "source": [
    "chr(122)"
   ]
  },
  {
   "cell_type": "code",
   "execution_count": null,
   "id": "8ee5573c-82c2-4ab0-8846-3d09f10b1378",
   "metadata": {},
   "outputs": [],
   "source": [
    "def solution(my_string):\n",
    "    answer = ''\n",
    "    for str in my_string:\n",
    "        if ord(str) < 90 and ord(str)>65:\n",
    "            answer += chr(ord(str)+32)\n",
    "        elif ord(str) < 122 and ord(str) > 97:\n",
    "            answer -= chr(ord(str)-32)\n",
    "    return answer"
   ]
  },
  {
   "cell_type": "code",
   "execution_count": 50,
   "id": "5851370a-73d3-436b-949d-3c03788dbbfc",
   "metadata": {},
   "outputs": [
    {
     "data": {
      "text/plain": [
       "0"
      ]
     },
     "execution_count": 50,
     "metadata": {},
     "output_type": "execute_result"
    }
   ],
   "source": [
    "3//5"
   ]
  },
  {
   "cell_type": "code",
   "execution_count": 59,
   "id": "4f0a4d0c-7532-4567-80ee-362f4309aeed",
   "metadata": {},
   "outputs": [],
   "source": [
    "def solution(n):\n",
    "    answer = 0\n",
    "    i = 0\n",
    "    while i <= n/2: \n",
    "        if i*i == n:\n",
    "            answer = 1\n",
    "            break\n",
    "        else:\n",
    "            answer = 2\n",
    "        i += 1\n",
    "    return answer"
   ]
  },
  {
   "cell_type": "code",
   "execution_count": 61,
   "id": "b05e02cc-49d1-469d-bba5-ffa81a3649b0",
   "metadata": {},
   "outputs": [
    {
     "data": {
      "text/plain": [
       "'g'"
      ]
     },
     "execution_count": 61,
     "metadata": {},
     "output_type": "execute_result"
    }
   ],
   "source": [
    "astr = 'abdkgj'\n",
    "astr[4]"
   ]
  },
  {
   "cell_type": "code",
   "execution_count": 68,
   "id": "4e6bd319-e4e0-4cf0-8a6b-5fb4fd4f2f70",
   "metadata": {},
   "outputs": [],
   "source": [
    "def swatch(my_string, num1, num2):\n",
    "    answer = ''\n",
    "    for i, str in enumerate(my_string):\n",
    "        if i == num1:\n",
    "            answer += my_string[num2]\n",
    "            print(answer)\n",
    "        if i == num2:\n",
    "            answer += my_string[num1]\n",
    "            print(answer)\n",
    "        elif i != num1 and i!= num2: \n",
    "            answer += str\n",
    "            print(answer)\n",
    "    \n",
    "    return answer"
   ]
  },
  {
   "cell_type": "code",
   "execution_count": 69,
   "id": "e63b9578-eff8-41dc-815e-c07ba7d4bc3c",
   "metadata": {},
   "outputs": [
    {
     "name": "stdout",
     "output_type": "stream",
     "text": [
      "h\n",
      "hl\n",
      "hle\n",
      "hlel\n",
      "hlelo\n"
     ]
    },
    {
     "data": {
      "text/plain": [
       "'hlelo'"
      ]
     },
     "execution_count": 69,
     "metadata": {},
     "output_type": "execute_result"
    }
   ],
   "source": [
    "swatch('hello', 1,2)"
   ]
  },
  {
   "cell_type": "code",
   "execution_count": 73,
   "id": "8b2c01f4-d925-443e-8c99-2f26be0fef76",
   "metadata": {},
   "outputs": [],
   "source": [
    "def elementslength(strlist):\n",
    "    answer = []\n",
    "    for i in range(len(strlist)):\n",
    "        answer.append(len(strlist[i]))\n",
    "    return answer"
   ]
  },
  {
   "cell_type": "code",
   "execution_count": 74,
   "id": "259b1ebc-08ac-48a9-b99b-ea3d384f834a",
   "metadata": {},
   "outputs": [
    {
     "data": {
      "text/plain": [
       "[2, 3, 3, 6]"
      ]
     },
     "execution_count": 74,
     "metadata": {},
     "output_type": "execute_result"
    }
   ],
   "source": [
    "elementslength([\"We\", \"are\", \"the\", \"world!\"])"
   ]
  },
  {
   "cell_type": "code",
   "execution_count": 96,
   "id": "0699c41d-6c7b-474e-baed-c477039dce94",
   "metadata": {},
   "outputs": [],
   "source": [
    "def solution(my_string):\n",
    "    answer = ''\n",
    "    tmp = list(my_string)\n",
    "    tmp.reverse()\n",
    "    for l in range(len(tmp)):\n",
    "        answer += tmp[l]\n",
    "    return answer"
   ]
  },
  {
   "cell_type": "code",
   "execution_count": 95,
   "id": "9a37c58d-b9a1-42d0-b3f9-9b002ebf16fd",
   "metadata": {},
   "outputs": [
    {
     "name": "stdout",
     "output_type": "stream",
     "text": [
      "['n', 'o', 'r', 'a', 'j']\n"
     ]
    },
    {
     "data": {
      "text/plain": [
       "'noraj'"
      ]
     },
     "execution_count": 95,
     "metadata": {},
     "output_type": "execute_result"
    }
   ],
   "source": [
    "solution(\"jaron\")"
   ]
  },
  {
   "cell_type": "code",
   "execution_count": 86,
   "id": "d539d2e7-e086-433c-88ab-733491d061fb",
   "metadata": {},
   "outputs": [],
   "source": [
    "k = \"jaron\"\n",
    "k = list(k)\n",
    "k.reverse()\n"
   ]
  },
  {
   "cell_type": "code",
   "execution_count": 87,
   "id": "53e4cb1b-c85f-4528-88a5-82708153e029",
   "metadata": {},
   "outputs": [
    {
     "data": {
      "text/plain": [
       "\"['n', 'o', 'r', 'a', 'j']\""
      ]
     },
     "execution_count": 87,
     "metadata": {},
     "output_type": "execute_result"
    }
   ],
   "source": [
    "k"
   ]
  },
  {
   "cell_type": "code",
   "execution_count": 108,
   "id": "9ffc8275-fb1e-4e1b-a3d1-994b516a96a5",
   "metadata": {},
   "outputs": [],
   "source": [
    "def pizza(slice, n):\n",
    "    answer =0 \n",
    "    if n%slice ==0:\n",
    "        answer = n//slice\n",
    "        print(n%slice)\n",
    "        print(answer)\n",
    "    elif n%slice != 0:\n",
    "        answer = n//slice + 1\n",
    "    return answer"
   ]
  },
  {
   "cell_type": "code",
   "execution_count": 110,
   "id": "effa225f-454c-4972-bdac-bbee29391a95",
   "metadata": {},
   "outputs": [
    {
     "data": {
      "text/plain": [
       "2"
      ]
     },
     "execution_count": 110,
     "metadata": {},
     "output_type": "execute_result"
    }
   ],
   "source": [
    "pizza(7,10)"
   ]
  },
  {
   "cell_type": "code",
   "execution_count": 115,
   "id": "5747866b-5e6b-4524-91e4-ba96432c6306",
   "metadata": {},
   "outputs": [
    {
     "name": "stdout",
     "output_type": "stream",
     "text": [
      "48 57\n"
     ]
    }
   ],
   "source": [
    "print(ord('0'), ord('9'))"
   ]
  },
  {
   "cell_type": "code",
   "execution_count": 125,
   "id": "e5e4edd1-8f5c-4acb-8fb2-e695dae6a1cf",
   "metadata": {},
   "outputs": [],
   "source": [
    "def pizza3(n):\n",
    "    answer = 1\n",
    "    while 6*answer%n !=0:\n",
    "        answer+= 1\n",
    "    return answer"
   ]
  },
  {
   "cell_type": "code",
   "execution_count": 126,
   "id": "418b0dd3-eac7-4442-9128-bc1aa6cb9140",
   "metadata": {},
   "outputs": [
    {
     "data": {
      "text/plain": [
       "5"
      ]
     },
     "execution_count": 126,
     "metadata": {},
     "output_type": "execute_result"
    }
   ],
   "source": [
    "pizza3(10)"
   ]
  },
  {
   "cell_type": "code",
   "execution_count": 141,
   "id": "62ee9f5c-4bd5-494a-9359-6332039c5b1c",
   "metadata": {},
   "outputs": [],
   "source": [
    "def moving(numbers, direction):\n",
    "    answer = []\n",
    "    answer = numbers\n",
    "    if direction == 'right':\n",
    "        for i in range(len(numbers)):\n",
    "            if i == len(numbers):\n",
    "                answer.insert(numbers[i])\n",
    "            else:\n",
    "                answer[i]=numbers[i-1]\n",
    "    elif direction == 'left':\n",
    "        for i in range(len(numbers)):\n",
    "            if i == 0:\n",
    "                answer.append(numbers[i])\n",
    "            else:\n",
    "                answer.append(numbers[i])\n",
    "        \n",
    "    return answer"
   ]
  },
  {
   "cell_type": "code",
   "execution_count": 142,
   "id": "3a8f05b7-5a73-454b-91a9-2e715a897264",
   "metadata": {},
   "outputs": [
    {
     "data": {
      "text/plain": [
       "[3, 3, 3]"
      ]
     },
     "execution_count": 142,
     "metadata": {},
     "output_type": "execute_result"
    }
   ],
   "source": [
    "moving([1,2,3],'right')"
   ]
  },
  {
   "cell_type": "code",
   "execution_count": 151,
   "id": "260d41a6-344c-4ce3-8185-a81b018346a8",
   "metadata": {},
   "outputs": [],
   "source": [
    "def boxes(box, n):\n",
    "    answer = (box[0]//n) * (box[1]//n) * (box[2]//n)\n",
    "    print(box[0]//n, box[1]//n, box[2]//n)\n",
    "    print(box[0]//n * box[1]//n * box[2]//n)\n",
    "    return answer"
   ]
  },
  {
   "cell_type": "code",
   "execution_count": 152,
   "id": "9bf6cb6d-269c-4fa0-ba53-24f8abf36778",
   "metadata": {},
   "outputs": [
    {
     "name": "stdout",
     "output_type": "stream",
     "text": [
      "3 2 2\n",
      "16\n"
     ]
    },
    {
     "data": {
      "text/plain": [
       "12"
      ]
     },
     "execution_count": 152,
     "metadata": {},
     "output_type": "execute_result"
    }
   ],
   "source": [
    "boxes([10,8,6], 3)"
   ]
  },
  {
   "cell_type": "code",
   "execution_count": 167,
   "id": "1fdd53cb-fdd2-4f89-9024-cd47efafaa92",
   "metadata": {},
   "outputs": [],
   "source": [
    "def primes(n):\n",
    "    answer = []\n",
    "    for k in range(n):\n",
    "        print(k+1)\n",
    "        if n//(k+1) == 0 :\n",
    "            answer.append(k)\n",
    "            # print(k+1)\n",
    "        elif n//(k+1) != 0:\n",
    "            pass\n",
    "    return answer"
   ]
  },
  {
   "cell_type": "code",
   "execution_count": 191,
   "id": "a2ec99d1-6a7a-49a7-b7f5-5971ef16c190",
   "metadata": {},
   "outputs": [],
   "source": [
    "def tens(num, k):\n",
    "    print(type(num))\n",
    "    num = str(num)\n",
    "    print(type(num), num)\n",
    "    while num//ith==0:\n",
    "        \n",
    "        ith += 1\n",
    "        "
   ]
  },
  {
   "cell_type": "code",
   "execution_count": 192,
   "id": "866f28df-5eba-4bba-9789-69e09aad6c3b",
   "metadata": {},
   "outputs": [
    {
     "name": "stdout",
     "output_type": "stream",
     "text": [
      "<class 'int'>\n",
      "<class 'str'> 29183\n",
      "<class 'int'> <class 'str'>\n"
     ]
    },
    {
     "data": {
      "text/plain": [
       "-1"
      ]
     },
     "execution_count": 192,
     "metadata": {},
     "output_type": "execute_result"
    }
   ],
   "source": [
    "tens(29183,1)"
   ]
  },
  {
   "cell_type": "code",
   "execution_count": null,
   "id": "1a4adb34-1446-41cd-9a7b-20c0adbbb29d",
   "metadata": {},
   "outputs": [],
   "source": []
  },
  {
   "cell_type": "code",
   "execution_count": 94,
   "id": "d0686b48-4795-400d-ba9a-23b38a86c9db",
   "metadata": {},
   "outputs": [],
   "source": [
    "# (분수의 덧셈) 문제 설명\n",
    "# 첫 번째 분수의 분자와 분모를 뜻하는 numer1, denom1, \n",
    "# 두 번째 분수의 분자와 분모를 뜻하는 numer2, denom2가 매개변수로 주어집니다. \n",
    "# 두 분수를 더한 값을 기약 분수로 나타냈을 때 \n",
    "# 분자와 분모를 순서대로 담은 배열을 return 하도록 solution 함수를 완성해보세요.\n",
    "\n",
    "# 제한사항\n",
    "# 0 <numer1, denom1, numer2, denom2 < 1,000\n",
    "\n",
    "    \n",
    "# 입출력 예\n",
    "# numer1\tdenom1\tnumer2\tdenom2\tresult\n",
    "# 1\t2\t3\t4\t[5, 4]\n",
    "# 9\t2\t1\t3\t[29, 6]\n",
    "\n",
    "def divisionsum(numer1, denom1, numer2, denom2):\n",
    "    prime\n",
    "    numset1 = []\n",
    "    denset1 = []\n",
    "    lcm = 1\n",
    "    gcd = 1\n",
    "\n",
    "    if denom1 == denom2 :\n",
    "        numre1 = numer1 + numer2 \n",
    "        denomre1 = denom1\n",
    "    elif denom1 != denom2 :\n",
    "        numre1 = numer1*denom2 + numer2*denom1\n",
    "        denomre1 = denom1*denom2\n",
    "        \n",
    "    for i in range(1,numre1+1):\n",
    "        if numre1%i == 0:\n",
    "            numset1.append(i)\n",
    "            \n",
    "    for k in range(1,denomre1+1):\n",
    "        if denomre1%k == 0:\n",
    "            denset1.append(k)\n",
    "\n",
    "    gcdset = set(numset1).intersection(denset1)\n",
    "    print(numset1, denset1)\n",
    "    print(gcdset)\n",
    "    for x in gcdset:\n",
    "        gcd *= x\n",
    "    print(gcd)\n",
    "    return [int(numre1/gcd), int(denomre1/gcd)]\n",
    "        \n",
    "\n",
    "\n"
   ]
  },
  {
   "cell_type": "code",
   "execution_count": 122,
   "id": "99f883fd-ca6c-47c9-967c-3a52c545585a",
   "metadata": {},
   "outputs": [],
   "source": [
    "primeset = '2\t3\t5\t7\t11\t13\t17\t19\t23\t29\t31\t37\t41\t43\t47\t53\t59\t61\t67\t71 73\t79\t83\t89\t97\t101\t103\t107\t109\t113\t127\t131\t137\t139\t149\t151\t157\t163\t167\t173 179\t181\t191\t193\t197\t199\t211\t223\t227\t229\t233\t239\t241\t251\t257\t263\t269\t271\t277\t281 283\t293\t307\t311\t313\t317\t331\t337\t347\t349\t353\t359\t367\t373\t379\t383\t389\t397\t401\t409 419\t421\t431\t433\t439\t443\t449\t457\t461\t463\t467\t479\t487\t491\t499\t503\t509\t521\t523\t541 547\t557\t563\t569\t571\t577\t587\t593\t599\t601\t607\t613\t617\t619\t631\t641\t643\t647\t653\t659 661\t673\t677\t683\t691\t701\t709\t719\t727\t733\t739\t743\t751\t757\t761\t769\t773\t787\t797\t809 811\t821\t823\t827\t829\t839\t853\t857\t859\t863\t877\t881\t883\t887\t907\t911\t919\t929\t937\t941 947\t953\t967\t971\t977\t983\t991\t997'"
   ]
  },
  {
   "cell_type": "code",
   "execution_count": 123,
   "id": "33a8a28d-ea3e-485b-85ac-08da10f82fa1",
   "metadata": {},
   "outputs": [],
   "source": [
    "primelist = primeset.split()"
   ]
  },
  {
   "cell_type": "code",
   "execution_count": 125,
   "id": "1b3ec2d4-565b-4af4-a855-41e387a93a77",
   "metadata": {},
   "outputs": [],
   "source": [
    "primelist = [int(x) for x in primelist]"
   ]
  },
  {
   "cell_type": "code",
   "execution_count": 126,
   "id": "5f9f4291-a1f5-4557-9722-cd671d507e87",
   "metadata": {
    "collapsed": true,
    "jupyter": {
     "outputs_hidden": true
    }
   },
   "outputs": [
    {
     "data": {
      "text/plain": [
       "[2,\n",
       " 3,\n",
       " 5,\n",
       " 7,\n",
       " 11,\n",
       " 13,\n",
       " 17,\n",
       " 19,\n",
       " 23,\n",
       " 29,\n",
       " 31,\n",
       " 37,\n",
       " 41,\n",
       " 43,\n",
       " 47,\n",
       " 53,\n",
       " 59,\n",
       " 61,\n",
       " 67,\n",
       " 71,\n",
       " 73,\n",
       " 79,\n",
       " 83,\n",
       " 89,\n",
       " 97,\n",
       " 101,\n",
       " 103,\n",
       " 107,\n",
       " 109,\n",
       " 113,\n",
       " 127,\n",
       " 131,\n",
       " 137,\n",
       " 139,\n",
       " 149,\n",
       " 151,\n",
       " 157,\n",
       " 163,\n",
       " 167,\n",
       " 173,\n",
       " 179,\n",
       " 181,\n",
       " 191,\n",
       " 193,\n",
       " 197,\n",
       " 199,\n",
       " 211,\n",
       " 223,\n",
       " 227,\n",
       " 229,\n",
       " 233,\n",
       " 239,\n",
       " 241,\n",
       " 251,\n",
       " 257,\n",
       " 263,\n",
       " 269,\n",
       " 271,\n",
       " 277,\n",
       " 281,\n",
       " 283,\n",
       " 293,\n",
       " 307,\n",
       " 311,\n",
       " 313,\n",
       " 317,\n",
       " 331,\n",
       " 337,\n",
       " 347,\n",
       " 349,\n",
       " 353,\n",
       " 359,\n",
       " 367,\n",
       " 373,\n",
       " 379,\n",
       " 383,\n",
       " 389,\n",
       " 397,\n",
       " 401,\n",
       " 409,\n",
       " 419,\n",
       " 421,\n",
       " 431,\n",
       " 433,\n",
       " 439,\n",
       " 443,\n",
       " 449,\n",
       " 457,\n",
       " 461,\n",
       " 463,\n",
       " 467,\n",
       " 479,\n",
       " 487,\n",
       " 491,\n",
       " 499,\n",
       " 503,\n",
       " 509,\n",
       " 521,\n",
       " 523,\n",
       " 541,\n",
       " 547,\n",
       " 557,\n",
       " 563,\n",
       " 569,\n",
       " 571,\n",
       " 577,\n",
       " 587,\n",
       " 593,\n",
       " 599,\n",
       " 601,\n",
       " 607,\n",
       " 613,\n",
       " 617,\n",
       " 619,\n",
       " 631,\n",
       " 641,\n",
       " 643,\n",
       " 647,\n",
       " 653,\n",
       " 659,\n",
       " 661,\n",
       " 673,\n",
       " 677,\n",
       " 683,\n",
       " 691,\n",
       " 701,\n",
       " 709,\n",
       " 719,\n",
       " 727,\n",
       " 733,\n",
       " 739,\n",
       " 743,\n",
       " 751,\n",
       " 757,\n",
       " 761,\n",
       " 769,\n",
       " 773,\n",
       " 787,\n",
       " 797,\n",
       " 809,\n",
       " 811,\n",
       " 821,\n",
       " 823,\n",
       " 827,\n",
       " 829,\n",
       " 839,\n",
       " 853,\n",
       " 857,\n",
       " 859,\n",
       " 863,\n",
       " 877,\n",
       " 881,\n",
       " 883,\n",
       " 887,\n",
       " 907,\n",
       " 911,\n",
       " 919,\n",
       " 929,\n",
       " 937,\n",
       " 941,\n",
       " 947,\n",
       " 953,\n",
       " 967,\n",
       " 971,\n",
       " 977,\n",
       " 983,\n",
       " 991,\n",
       " 997]"
      ]
     },
     "execution_count": 126,
     "metadata": {},
     "output_type": "execute_result"
    }
   ],
   "source": [
    "primelist"
   ]
  },
  {
   "cell_type": "code",
   "execution_count": 95,
   "id": "a4a9708a-21da-4922-a8c1-9646f6f8db71",
   "metadata": {},
   "outputs": [
    {
     "name": "stdout",
     "output_type": "stream",
     "text": [
      "[1, 2, 4, 8, 16, 32, 64, 128] [1, 2, 4, 8, 16, 32, 64, 128]\n",
      "{32, 1, 2, 64, 4, 128, 8, 16}\n",
      "268435456\n"
     ]
    },
    {
     "data": {
      "text/plain": [
       "[0, 0]"
      ]
     },
     "execution_count": 95,
     "metadata": {},
     "output_type": "execute_result"
    }
   ],
   "source": [
    "divisionsum(4,8,8,16)"
   ]
  },
  {
   "cell_type": "code",
   "execution_count": 151,
   "id": "7a0f11ef-a06b-491c-bc24-81316145dca8",
   "metadata": {},
   "outputs": [],
   "source": [
    "def pranalysis(inte):\n",
    "    x=1\n",
    "    div = []\n",
    "    result = 1\n",
    "    while inte//x >=1:\n",
    "        if inte%x==0:\n",
    "            if x in primelist:\n",
    "                div.append(x)\n",
    "            else:\n",
    "                for y in range(1,x):\n",
    "                    if x%y==0:\n",
    "                        print(y)\n",
    "                        if y in primelist:\n",
    "                            div.append(y)\n",
    "                            # div.append(x/y)\n",
    "        x+= 1\n",
    "    # for pp in div:\n",
    "    #     result += pp\n",
    "    return div"
   ]
  },
  {
   "cell_type": "code",
   "execution_count": 152,
   "id": "96278ac9-e98a-4013-b343-55817690af9e",
   "metadata": {},
   "outputs": [
    {
     "name": "stdout",
     "output_type": "stream",
     "text": [
      "1\n",
      "2\n",
      "1\n",
      "2\n",
      "5\n",
      "1\n",
      "2\n",
      "4\n",
      "5\n",
      "10\n",
      "1\n",
      "5\n",
      "1\n",
      "2\n",
      "5\n",
      "10\n",
      "25\n",
      "1\n",
      "2\n",
      "4\n",
      "5\n",
      "10\n",
      "20\n",
      "25\n",
      "50\n"
     ]
    },
    {
     "data": {
      "text/plain": [
       "[2, 2, 5, 2, 5, 2, 5, 5, 2, 5, 2, 5]"
      ]
     },
     "execution_count": 152,
     "metadata": {},
     "output_type": "execute_result"
    }
   ],
   "source": [
    "pranalysis(100)"
   ]
  },
  {
   "cell_type": "code",
   "execution_count": 148,
   "id": "35755c01-b66c-40ed-a09b-e3a1a0ef1058",
   "metadata": {},
   "outputs": [],
   "source": [
    "def divsim(num, den):\n",
    "    \n",
    "    \n",
    "    numset = []\n",
    "    denset = []\n",
    "    comm = []\n",
    "    gcd = 1      \n",
    "    if num>den and num%den ==0:\n",
    "        return [int(num/den),1]\n",
    "    elif den>num and den%num ==0:\n",
    "        return [1, int(den/num)]\n",
    "    elif den==num:\n",
    "        return [1,1]\n",
    "    else:\n",
    "        for i in range(1,num+1):\n",
    "            if num%i == 0:\n",
    "                numset.append(i)\n",
    "            \n",
    "        for k in range(1+1,den+1):\n",
    "            if den%k == 0:\n",
    "                denset.append(k)\n",
    "                if k in numset:\n",
    "                    comm.append(k)\n",
    "        for x in range(len(comm)):\n",
    "            for y in comm:\n",
    "                if comm[-x]%y==0:\n",
    "                    pass\n",
    "            \n",
    "        \n",
    "\n",
    "    gcdset = set(numset).intersection(denset)\n",
    "    for x in gcdset:\n",
    "        gcd *= x\n",
    "    print(gcdset)\n",
    "    print(num, gcd)\n",
    "    return [int(num/gcd),int(den/gcd)]"
   ]
  },
  {
   "cell_type": "code",
   "execution_count": 120,
   "id": "5a2de9be-d3db-40f3-a118-9a0b5a0125f7",
   "metadata": {},
   "outputs": [
    {
     "name": "stdout",
     "output_type": "stream",
     "text": [
      "set()\n",
      "4 1\n"
     ]
    },
    {
     "data": {
      "text/plain": [
       "[4, 8]"
      ]
     },
     "execution_count": 120,
     "metadata": {},
     "output_type": "execute_result"
    }
   ],
   "source": [
    "divsim(4,8)"
   ]
  },
  {
   "cell_type": "code",
   "execution_count": 14,
   "id": "9ae73951-9286-4ca2-9a1f-466a5895ffe9",
   "metadata": {},
   "outputs": [],
   "source": [
    "def lcm(n1, n2):\n",
    "    if n1%n2==0:\n",
    "        return n1\n",
    "    elif n2%n1==0:\n",
    "        return n2\n",
    "    else:\n",
    "        dv = 1\n",
    "        for i in range(2,n1-1):\n",
    "            if n1<=2 and n1%2==0:\n",
    "                dv = 2\n",
    "            if n1%(i)==0:\n",
    "                dv = max(dv, i)\n",
    "        return dv*n2"
   ]
  },
  {
   "cell_type": "code",
   "execution_count": 2,
   "id": "fb52f997-b19b-4f47-b27d-0c3807323e75",
   "metadata": {},
   "outputs": [],
   "source": [
    "def gcd(d1, d2):\n",
    "    if d1%d2==0:\n",
    "        return d2\n",
    "    elif d2%d1==0:\n",
    "        return d1\n",
    "    else:\n",
    "        dv = 1\n",
    "        for i in range(1,d1):\n",
    "            if i ==1 and d1%2==0 and d2%2 ==0:\n",
    "                dv = 2\n",
    "            if i> 1 and d1%i==0:\n",
    "                if d2%i==0:\n",
    "                    dv = max(dv, i)\n",
    "                else:\n",
    "                    pass\n",
    "            else:\n",
    "                return 1\n",
    "    return dv"
   ]
  },
  {
   "cell_type": "code",
   "execution_count": 69,
   "id": "4e224fa1-c48b-439f-96e9-56b459fe1ef2",
   "metadata": {},
   "outputs": [
    {
     "data": {
      "text/plain": [
       "[18, 385]"
      ]
     },
     "execution_count": 69,
     "metadata": {},
     "output_type": "execute_result"
    }
   ],
   "source": [
    "divisionsum(1,35,1,55)"
   ]
  },
  {
   "cell_type": "code",
   "execution_count": 70,
   "id": "6b50b1a6-cc51-41bf-b5d3-11cf57d25825",
   "metadata": {},
   "outputs": [
    {
     "data": {
      "text/plain": [
       "[29, 6]"
      ]
     },
     "execution_count": 70,
     "metadata": {},
     "output_type": "execute_result"
    }
   ],
   "source": [
    "divisionsum(9,2,1,3)"
   ]
  },
  {
   "cell_type": "markdown",
   "id": "cd2fd73a-6969-4e18-8277-af82da8582ec",
   "metadata": {},
   "source": [
    "array\tresult\n",
    "\n",
    "[1, 2, 3, 3, 3, 4]\t3\n",
    "\n",
    "[1, 1, 2, 2]\t-1\n",
    "\n",
    "[1]\t1"
   ]
  },
  {
   "cell_type": "code",
   "execution_count": 329,
   "id": "34c2ce0f-82ae-4eb8-bfbb-06268f44c20f",
   "metadata": {},
   "outputs": [],
   "source": [
    "from collections import Counter"
   ]
  },
  {
   "cell_type": "code",
   "execution_count": 330,
   "id": "423410a2-c846-4a57-8bcd-f49dabd9d2e9",
   "metadata": {},
   "outputs": [
    {
     "data": {
      "text/plain": [
       "dict_keys([1, 2, 3, 4])"
      ]
     },
     "execution_count": 330,
     "metadata": {},
     "output_type": "execute_result"
    }
   ],
   "source": [
    "arr= [1,2,3,3,3,4]\n",
    "arr=Counter(arr)()"
   ]
  },
  {
   "cell_type": "code",
   "execution_count": 332,
   "id": "5bc17381-89c1-4a19-af6e-bd75b2a52f04",
   "metadata": {},
   "outputs": [],
   "source": [
    "ali = list(arr.values())"
   ]
  },
  {
   "cell_type": "code",
   "execution_count": 335,
   "id": "7e58c7d8-3d2d-402c-8ae4-0a0382f8e1ad",
   "metadata": {},
   "outputs": [
    {
     "data": {
      "text/plain": [
       "[1, 1, 1, 3]"
      ]
     },
     "execution_count": 335,
     "metadata": {},
     "output_type": "execute_result"
    }
   ],
   "source": [
    "ali"
   ]
  },
  {
   "cell_type": "code",
   "execution_count": 334,
   "id": "f8a224fa-5037-4aa8-8375-82976c167305",
   "metadata": {},
   "outputs": [],
   "source": [
    "ali.sort()"
   ]
  },
  {
   "cell_type": "code",
   "execution_count": 338,
   "id": "94dbcc2a-abaa-4a8c-b646-c8493c533eb3",
   "metadata": {},
   "outputs": [],
   "source": [
    "# (최빈값 구하기)문제 설명\n",
    "# 최빈값은 주어진 값 중에서 가장 자주 나오는 값을 의미합니다. 정수 배열 array가 매개변수로 주어질 때, 최빈값을 return 하도록 solution 함수를 완성해보세요. 최빈값이 여러 개면 -1을 return 합니다.\n",
    "\n",
    "# 제한사항\n",
    "# 0 < array의 길이 < 100\n",
    "# 0 ≤ array의 원소 < 1000\n",
    "# 입출력 예\n",
    "# array\tresult\n",
    "# [1, 2, 3, 3, 3, 4]\t3\n",
    "# [1, 1, 2, 2]\t-1\n",
    "# [1]\t1\n",
    "\n",
    "def mostfrequent(array):\n",
    "    count = Counter(array)\n",
    "    inlist = list(count.values())\n",
    "    inlist.sort()\n",
    "    if len(inlist)==1:\n",
    "        return inlist[0]\n",
    "    if inlist[-1]==inlist[-2]:\n",
    "        return -1\n",
    "    else:\n",
    "        return inlist[-1]"
   ]
  },
  {
   "cell_type": "code",
   "execution_count": 339,
   "id": "def68ca5-601e-4a44-9bcb-2ffee1d203cb",
   "metadata": {},
   "outputs": [
    {
     "data": {
      "text/plain": [
       "3"
      ]
     },
     "execution_count": 339,
     "metadata": {},
     "output_type": "execute_result"
    }
   ],
   "source": [
    "mostfrequent(arr)"
   ]
  },
  {
   "cell_type": "code",
   "execution_count": 344,
   "id": "ed3ce28e-5b8c-4c9c-8f1c-b43901622f83",
   "metadata": {},
   "outputs": [],
   "source": [
    "arr1 = [1]\n",
    "arr1.sort()"
   ]
  },
  {
   "cell_type": "code",
   "execution_count": 359,
   "id": "72668f1e-529b-4550-b105-f7e07e365088",
   "metadata": {},
   "outputs": [],
   "source": [
    "def lowercase(my_string):\n",
    "    lo = my_string.lower()\n",
    "    print(lo)\n",
    "    tmp=[]\n",
    "    for str in lo:\n",
    "        tmp.append(str)\n",
    "    tmp.sort()\n",
    "    return tmp"
   ]
  },
  {
   "cell_type": "code",
   "execution_count": 360,
   "id": "b0792cec-b8ed-4f4e-82df-a207497344f9",
   "metadata": {},
   "outputs": [
    {
     "name": "stdout",
     "output_type": "stream",
     "text": [
      "bacd\n"
     ]
    },
    {
     "data": {
      "text/plain": [
       "['a', 'b', 'c', 'd']"
      ]
     },
     "execution_count": 360,
     "metadata": {},
     "output_type": "execute_result"
    }
   ],
   "source": [
    "lowercase('BaCD')"
   ]
  },
  {
   "cell_type": "code",
   "execution_count": 348,
   "id": "a97b84ee-8ae9-4ad7-bac9-3a2d58b78b21",
   "metadata": {},
   "outputs": [
    {
     "data": {
      "text/plain": [
       "'bacd'"
      ]
     },
     "execution_count": 348,
     "metadata": {},
     "output_type": "execute_result"
    }
   ],
   "source": [
    "'bACd'.lower()"
   ]
  },
  {
   "cell_type": "code",
   "execution_count": 356,
   "id": "af664399-06e1-4be3-947a-4f9002c055ab",
   "metadata": {},
   "outputs": [
    {
     "data": {
      "text/plain": [
       "['abcc']"
      ]
     },
     "execution_count": 356,
     "metadata": {},
     "output_type": "execute_result"
    }
   ],
   "source": [
    "[x.lower() for x in [\"ABCC\"]]"
   ]
  },
  {
   "cell_type": "code",
   "execution_count": 363,
   "id": "fad3322e-c507-4349-8f47-cf8b886ee71b",
   "metadata": {},
   "outputs": [
    {
     "name": "stdout",
     "output_type": "stream",
     "text": [
      "97 122\n"
     ]
    }
   ],
   "source": [
    "print(ord('a'),ord('z'))"
   ]
  },
  {
   "cell_type": "code",
   "execution_count": 365,
   "id": "531022fd-2bc4-4859-83c8-5ae6a4dc7dd2",
   "metadata": {},
   "outputs": [
    {
     "name": "stdout",
     "output_type": "stream",
     "text": [
      "j\n"
     ]
    }
   ],
   "source": [
    "print(chr(97+9))"
   ]
  },
  {
   "cell_type": "code",
   "execution_count": 399,
   "id": "7c06437c-02f9-4891-9430-db3cc48c2bcf",
   "metadata": {},
   "outputs": [],
   "source": [
    "def comn(n):\n",
    "    ndiv =0\n",
    "    cnt = 0\n",
    "    for i in range(1,n+1):\n",
    "        if (n)%i==0:\n",
    "            cnt+=1\n",
    "        else:\n",
    "            pass        \n",
    "    if cnt >=3:\n",
    "        ndiv = 1\n",
    "    else: \n",
    "        pass\n",
    "    return ndiv"
   ]
  },
  {
   "cell_type": "code",
   "execution_count": 403,
   "id": "0c73580c-54a6-4940-8c44-5b93c94517cf",
   "metadata": {},
   "outputs": [
    {
     "data": {
      "text/plain": [
       "1"
      ]
     },
     "execution_count": 403,
     "metadata": {},
     "output_type": "execute_result"
    }
   ],
   "source": [
    "comn(6)"
   ]
  },
  {
   "cell_type": "code",
   "execution_count": 414,
   "id": "9b05b18a-f929-4185-96fa-4951ed8b6002",
   "metadata": {},
   "outputs": [],
   "source": [
    "def cntnn(n):\n",
    "    answer = 0\n",
    "    if n <=2:\n",
    "        pass\n",
    "    else:\n",
    "        for i in range(1,n+1):\n",
    "            if comn(i)==1:\n",
    "                answer+=1\n",
    "        \n",
    "    return answer"
   ]
  },
  {
   "cell_type": "code",
   "execution_count": 416,
   "id": "f2d3bce3-b404-4c7a-97d3-5b191ab616ce",
   "metadata": {},
   "outputs": [
    {
     "data": {
      "text/plain": [
       "8"
      ]
     },
     "execution_count": 416,
     "metadata": {},
     "output_type": "execute_result"
    }
   ],
   "source": [
    "cntnn(15)"
   ]
  },
  {
   "cell_type": "code",
   "execution_count": 417,
   "id": "6890fb04-e85c-4666-a30b-19be6df09cb1",
   "metadata": {},
   "outputs": [],
   "source": [
    "twod = [[1,2],[3,4],[5,6]]"
   ]
  },
  {
   "cell_type": "code",
   "execution_count": 50,
   "id": "a833e849-6097-45c8-bc1b-c1910f9d5bd0",
   "metadata": {},
   "outputs": [],
   "source": [
    "import numpy as np\n",
    "def tdarray(num_list,n):\n",
    "    \n",
    "    cols = len(num_list)//n\n",
    "    answer = np.zeros((cols,n))\n",
    "    for k in range(cols):\n",
    "        nk = n*k\n",
    "        # print(nk)\n",
    "        answer[k,:]=num_list[nk:nk+n]\n",
    "\n",
    "    answer=answer.tolist()\n",
    "    return answer"
   ]
  },
  {
   "cell_type": "code",
   "execution_count": 51,
   "id": "661a4d87-0032-4151-9414-59d6ca97ac76",
   "metadata": {},
   "outputs": [
    {
     "data": {
      "text/plain": [
       "[[100.0, 95.0, 2.0], [4.0, 5.0, 6.0], [18.0, 33.0, 948.0]]"
      ]
     },
     "execution_count": 51,
     "metadata": {},
     "output_type": "execute_result"
    }
   ],
   "source": [
    "abcde = [1,2,3,4,5,6]\n",
    "abcde = [100, 95, 2, 4, 5, 6, 18, 33, 948]\n",
    "tdarray(abcde,3)"
   ]
  },
  {
   "cell_type": "code",
   "execution_count": 77,
   "id": "3d909cee-f10a-4f97-ba48-3ea8929f591e",
   "metadata": {},
   "outputs": [],
   "source": [
    "def priori(emergency):\n",
    "    answer = []\n",
    "    cp1 = emergency.copy()\n",
    "    cp1.sort()\n",
    "    for i in range(len(emergency)):\n",
    "        answer.append((len(emergency)-cp1.index(emergency[i])))\n",
    "        print(-i-1,cp1[-i-1])\n",
    "    return answer"
   ]
  },
  {
   "cell_type": "code",
   "execution_count": 78,
   "id": "11610d18-32a7-4957-936a-ead273494252",
   "metadata": {},
   "outputs": [],
   "source": [
    "emer1 = [30, 10, 23, 6, 100] # [2,4,3,5,1]"
   ]
  },
  {
   "cell_type": "code",
   "execution_count": 79,
   "id": "4e8b2b8d-07a3-4984-90ff-de0d9e2766aa",
   "metadata": {},
   "outputs": [
    {
     "name": "stdout",
     "output_type": "stream",
     "text": [
      "-1 100\n",
      "-2 30\n",
      "-3 23\n",
      "-4 10\n",
      "-5 6\n"
     ]
    },
    {
     "data": {
      "text/plain": [
       "[2, 4, 3, 5, 1]"
      ]
     },
     "execution_count": 79,
     "metadata": {},
     "output_type": "execute_result"
    }
   ],
   "source": [
    "priori(emer1)"
   ]
  },
  {
   "cell_type": "code",
   "execution_count": 75,
   "id": "00cc5a96-002f-4211-908b-29e822ecb079",
   "metadata": {},
   "outputs": [],
   "source": [
    "emer1.sort()"
   ]
  },
  {
   "cell_type": "code",
   "execution_count": 76,
   "id": "43785a3f-7bb9-4aec-bcbd-eae680bcb3f9",
   "metadata": {},
   "outputs": [
    {
     "data": {
      "text/plain": [
       "[6, 10, 23, 30, 100]"
      ]
     },
     "execution_count": 76,
     "metadata": {},
     "output_type": "execute_result"
    }
   ],
   "source": [
    "emer1"
   ]
  },
  {
   "cell_type": "code",
   "execution_count": 80,
   "id": "190c9fb3-23d7-42d8-a1a6-45f59064dd0e",
   "metadata": {},
   "outputs": [],
   "source": [
    "morse = { \n",
    "    '.-':'a','-...':'b','-.-.':'c','-..':'d','.':'e','..-.':'f',\n",
    "    '--.':'g','....':'h','..':'i','.---':'j','-.-':'k','.-..':'l',\n",
    "    '--':'m','-.':'n','---':'o','.--.':'p','--.-':'q','.-.':'r',\n",
    "    '...':'s','-':'t','..-':'u','...-':'v','.--':'w','-..-':'x',\n",
    "    '-.--':'y','--..':'z'\n",
    "}"
   ]
  },
  {
   "cell_type": "code",
   "execution_count": 97,
   "id": "aa8a785e-ff1a-46f4-bcec-f21b3f2755ba",
   "metadata": {},
   "outputs": [],
   "source": [
    "def morsetoletter(letter):\n",
    "    answer = ''\n",
    "    morse = {'.-':'a','-...':'b','-.-.':'c','-..':'d','.':'e','..-.':'f',\n",
    "    '--.':'g','....':'h','..':'i','.---':'j','-.-':'k','.-..':'l',\n",
    "    '--':'m','-.':'n','---':'o','.--.':'p','--.-':'q','.-.':'r',\n",
    "    '...':'s','-':'t','..-':'u','...-':'v','.--':'w','-..-':'x',\n",
    "    '-.--':'y','--..':'z'}\n",
    "    letters = letter.split()\n",
    "    for st in letters:\n",
    "        for key, value in morse.items():\n",
    "            if st==key:\n",
    "                answer+=value\n",
    "    return answer"
   ]
  },
  {
   "cell_type": "code",
   "execution_count": 98,
   "id": "6e4285eb-a90b-4249-9a2d-f77eaeb45550",
   "metadata": {},
   "outputs": [
    {
     "name": "stdout",
     "output_type": "stream",
     "text": [
      "h ....\n",
      "e .\n",
      "l .-..\n",
      "l .-..\n",
      "o ---\n"
     ]
    },
    {
     "data": {
      "text/plain": [
       "'hello'"
      ]
     },
     "execution_count": 98,
     "metadata": {},
     "output_type": "execute_result"
    }
   ],
   "source": [
    "morsetoletter(\".... . .-.. .-.. ---\")"
   ]
  },
  {
   "cell_type": "code",
   "execution_count": 83,
   "id": "a83933c4-4490-4592-95f3-ba9d85dda37d",
   "metadata": {},
   "outputs": [
    {
     "data": {
      "text/plain": [
       "32"
      ]
     },
     "execution_count": 83,
     "metadata": {},
     "output_type": "execute_result"
    }
   ],
   "source": [
    "ord(' ')"
   ]
  },
  {
   "cell_type": "code",
   "execution_count": 86,
   "id": "6623fb33-4332-4df2-9361-52741e3b7fd5",
   "metadata": {},
   "outputs": [
    {
     "data": {
      "text/plain": [
       "['....', '.', '.-..', '.-..', '---']"
      ]
     },
     "execution_count": 86,
     "metadata": {},
     "output_type": "execute_result"
    }
   ],
   "source": [
    "\".... . .-.. .-.. ---\".split()"
   ]
  },
  {
   "cell_type": "code",
   "execution_count": 99,
   "id": "3f624298-8c8b-4593-92c7-ffe3e4322cdc",
   "metadata": {},
   "outputs": [],
   "source": [
    "def factorial(num):\n",
    "    fn = 1\n",
    "    for k in range(num):\n",
    "        fn *= (k+1) \n",
    "    return fn"
   ]
  },
  {
   "cell_type": "code",
   "execution_count": 100,
   "id": "6d10c7bb-55ec-4314-a984-e8497fb809cf",
   "metadata": {},
   "outputs": [
    {
     "data": {
      "text/plain": [
       "3628800"
      ]
     },
     "execution_count": 100,
     "metadata": {},
     "output_type": "execute_result"
    }
   ],
   "source": [
    "factorial(10)"
   ]
  },
  {
   "cell_type": "code",
   "execution_count": 149,
   "id": "fcba8483-08dc-41df-bc5f-b831027b576d",
   "metadata": {},
   "outputs": [],
   "source": [
    "def maxfact(n):\n",
    "    answer = 0\n",
    "    # for i in range(n):\n",
    "    #     k = factorial(n-i)\n",
    "    #     if n>=k:\n",
    "    #          return n-i\n",
    "    while n>=1:\n",
    "        answer += 1\n",
    "        n = n/answer\n",
    "    return answer-1\n"
   ]
  },
  {
   "cell_type": "code",
   "execution_count": 148,
   "id": "39c0315c-bd5e-45ad-a22b-9829bbd53ad4",
   "metadata": {},
   "outputs": [
    {
     "data": {
      "text/plain": [
       "4"
      ]
     },
     "execution_count": 148,
     "metadata": {},
     "output_type": "execute_result"
    }
   ],
   "source": [
    "maxfact(7)"
   ]
  },
  {
   "cell_type": "code",
   "execution_count": 147,
   "id": "f65eb999-bc1a-4f87-8611-064477f75c6d",
   "metadata": {},
   "outputs": [
    {
     "data": {
      "text/plain": [
       "11"
      ]
     },
     "execution_count": 147,
     "metadata": {},
     "output_type": "execute_result"
    }
   ],
   "source": [
    "maxfact(3628800)"
   ]
  },
  {
   "cell_type": "code",
   "execution_count": 131,
   "id": "ff57110b-848e-4646-a22d-761a67143949",
   "metadata": {},
   "outputs": [
    {
     "data": {
      "text/plain": [
       "720"
      ]
     },
     "execution_count": 131,
     "metadata": {},
     "output_type": "execute_result"
    }
   ],
   "source": [
    "factorial(6)"
   ]
  },
  {
   "cell_type": "code",
   "execution_count": 144,
   "id": "99fe2520-9ac3-4d4f-9cbc-500e9ad84053",
   "metadata": {},
   "outputs": [
    {
     "name": "stdout",
     "output_type": "stream",
     "text": [
      "0.8333333333333334 5\n"
     ]
    }
   ],
   "source": [
    "n=100\n",
    "k=1\n",
    "while n >= 1:\n",
    "    k+=1\n",
    "    n = n/k\n",
    "print(n,k)"
   ]
  },
  {
   "cell_type": "code",
   "execution_count": 150,
   "id": "2f5f9f19-2920-4cff-8ae9-7bf32e6fc28b",
   "metadata": {},
   "outputs": [
    {
     "data": {
      "text/plain": [
       "'abcd'"
      ]
     },
     "execution_count": 150,
     "metadata": {},
     "output_type": "execute_result"
    }
   ],
   "source": [
    "'ABCd'.lower()"
   ]
  },
  {
   "cell_type": "code",
   "execution_count": 154,
   "id": "b763e591-0a85-4b66-b291-4767d5a6a732",
   "metadata": {},
   "outputs": [
    {
     "name": "stdout",
     "output_type": "stream",
     "text": [
      "48 57\n"
     ]
    }
   ],
   "source": [
    "print(ord('0'),ord('9'))"
   ]
  },
  {
   "cell_type": "code",
   "execution_count": 156,
   "id": "cbc03d80-9cb8-4dba-866e-40af00282ec0",
   "metadata": {},
   "outputs": [],
   "source": [
    "if 0:\n",
    "    print('yes')"
   ]
  },
  {
   "cell_type": "code",
   "execution_count": 159,
   "id": "b5e8d906-a9b4-46cd-92ba-9742aef5f344",
   "metadata": {},
   "outputs": [],
   "source": [
    "def ifint(astring):\n",
    "    if ord(astring) >=48 and ord(astring)<=57:\n",
    "        return 0\n",
    "    else:\n",
    "        return 1\n",
    "def numsum(my_string):\n",
    "    answer = 0\n",
    "    tmp = ''\n",
    "    for i, l in enumerate(my_string):\n",
    "        if l.isnumeric():\n",
    "            \n",
    "            tmp += l\n",
    "            # if my_string[i+1].isnumeric():\n",
    "            #     pass\n",
    "            # elif not my_string[i+1].isnumeric():\n",
    "            #     tmp = int(tmp)\n",
    "            #     answer += tmp\n",
    "        elif not l.isnumeric():\n",
    "            tmp += ' '\n",
    "    listtemp  = tmp.split()\n",
    "    for ii in listtemp:\n",
    "        answer += int(ii)\n",
    "    return answer"
   ]
  },
  {
   "cell_type": "code",
   "execution_count": 160,
   "id": "b4dd0031-1d1d-4095-84aa-d5ab70f0d879",
   "metadata": {},
   "outputs": [
    {
     "data": {
      "text/plain": [
       "9"
      ]
     },
     "execution_count": 160,
     "metadata": {},
     "output_type": "execute_result"
    }
   ],
   "source": [
    "numsum(\"R9\")"
   ]
  },
  {
   "cell_type": "code",
   "execution_count": 206,
   "id": "16499db5-a988-4352-b154-5fb8136db5b7",
   "metadata": {},
   "outputs": [
    {
     "name": "stdout",
     "output_type": "stream",
     "text": [
      "97 122 65 90\n"
     ]
    }
   ],
   "source": [
    "print(ord('a'), ord('z'), ord('A'), ord('Z'))"
   ]
  },
  {
   "cell_type": "code",
   "execution_count": 213,
   "id": "413d8511-524f-41e0-97c9-76a69c81f3ce",
   "metadata": {},
   "outputs": [],
   "source": [
    "from collections import Counter"
   ]
  },
  {
   "cell_type": "code",
   "execution_count": 218,
   "id": "744e251d-e344-476c-b34c-032510d37135",
   "metadata": {},
   "outputs": [
    {
     "data": {
      "text/plain": [
       "Counter({'k': 3,\n",
       "         'a': 1,\n",
       "         '2': 1,\n",
       "         '3': 1,\n",
       "         '4': 1,\n",
       "         '5': 1,\n",
       "         'l': 1,\n",
       "         'd': 1,\n",
       "         'f': 1})"
      ]
     },
     "execution_count": 218,
     "metadata": {},
     "output_type": "execute_result"
    }
   ],
   "source": [
    "Counter(hh)"
   ]
  },
  {
   "cell_type": "code",
   "execution_count": 219,
   "id": "9618d03e-c520-47b9-81df-b8f38b622f96",
   "metadata": {},
   "outputs": [],
   "source": [
    "# 문제 설명\n",
    "# 문자열 before와 after가 매개변수로 주어질 때, \n",
    "# before의 순서를 바꾸어 after를 만들 수 있으면 1을, \n",
    "# 만들 수 없으면 0을 return 하도록 solution 함수를 완성해보세요.\n",
    "def combi(before, after):\n",
    "    if Counter(before) == Counter(after):\n",
    "        return 1\n",
    "    else:\n",
    "        return 0"
   ]
  },
  {
   "cell_type": "code",
   "execution_count": 220,
   "id": "c0a9fc31-4548-4b75-a301-60ac7c17e5de",
   "metadata": {},
   "outputs": [
    {
     "data": {
      "text/plain": [
       "0"
      ]
     },
     "execution_count": 220,
     "metadata": {},
     "output_type": "execute_result"
    }
   ],
   "source": [
    "combi('apple', 'allpe')"
   ]
  },
  {
   "cell_type": "code",
   "execution_count": 224,
   "id": "95b3dbf2-82ba-4d92-90ea-622259445ef3",
   "metadata": {},
   "outputs": [],
   "source": [
    "alist =[3,4,5,2,6,3,2,44]"
   ]
  },
  {
   "cell_type": "code",
   "execution_count": 250,
   "id": "b3a6f53a-2eb7-45f0-9b8a-8f754c2e3b40",
   "metadata": {},
   "outputs": [],
   "source": [
    "# 문제 설명\n",
    "# 정수 배열 array와 정수 n이 매개변수로 주어질 때, \n",
    "# array에 들어있는 정수 중 n과 가장 가까운 수를 return 하도록 \n",
    "# solution 함수를 완성해주세요.\n",
    "\n",
    "def minimi(array, n):\n",
    "    answer = array[0]\n",
    "    tmp = abs(array[0]-n)\n",
    "    for i in range(len(array)):\n",
    "        if tmp != min(tmp,abs(array[i]- n)):\n",
    "            answer = array[i]\n",
    "        elif answer > array[i] and tmp == min(answer,abs(array[i]-n)):\n",
    "            answer = array[i]\n",
    "        tmp = min(tmp,abs(array[i] - n))\n",
    "    return answer"
   ]
  },
  {
   "cell_type": "code",
   "execution_count": 251,
   "id": "af6a569e-0119-4bf8-8c8f-09620c3095a3",
   "metadata": {},
   "outputs": [
    {
     "data": {
      "text/plain": [
       "1"
      ]
     },
     "execution_count": 251,
     "metadata": {},
     "output_type": "execute_result"
    }
   ],
   "source": [
    "minimi([1,3,4],2)"
   ]
  },
  {
   "cell_type": "code",
   "execution_count": 256,
   "id": "11d22c93-a836-4d0e-b546-12eaa8314915",
   "metadata": {},
   "outputs": [],
   "source": [
    "dit=Counter(hh)"
   ]
  },
  {
   "cell_type": "code",
   "execution_count": 259,
   "id": "b3aee046-9ca3-4011-bc34-8b6444467c5e",
   "metadata": {},
   "outputs": [
    {
     "data": {
      "text/plain": [
       "dict_values([1, 1, 3, 1, 1, 1, 1, 1, 1])"
      ]
     },
     "execution_count": 259,
     "metadata": {},
     "output_type": "execute_result"
    }
   ],
   "source": [
    "dit.values()"
   ]
  },
  {
   "cell_type": "code",
   "execution_count": 260,
   "id": "f4208530-6a99-468d-8978-325389917c42",
   "metadata": {},
   "outputs": [],
   "source": [
    "# 문제 설명\n",
    "# 문자열 s가 매개변수로 주어집니다. \n",
    "# s에서 한 번만 등장하는 문자를 사전 순으로 정렬한 문자열을 return 하도록 \n",
    "# solution 함수를 완성해보세요. \n",
    "# 한 번만 등장하는 문자가 없을 경우 빈 문자열을 return 합니다.\n",
    "\n",
    "def once(s):\n",
    "    answer = ''\n",
    "    tmp = Counter(s)\n",
    "    for k,v in tmp.items():\n",
    "        if v == 1:\n",
    "            answer += k\n",
    "    return answer "
   ]
  },
  {
   "cell_type": "code",
   "execution_count": 261,
   "id": "bb491b7c-014d-4068-a852-8e31b4a6e866",
   "metadata": {},
   "outputs": [
    {
     "data": {
      "text/plain": [
       "'ale'"
      ]
     },
     "execution_count": 261,
     "metadata": {},
     "output_type": "execute_result"
    }
   ],
   "source": [
    "once('apple')"
   ]
  },
  {
   "cell_type": "code",
   "execution_count": 4,
   "id": "092df858-47fb-444b-9f15-31fecf991a6b",
   "metadata": {},
   "outputs": [],
   "source": [
    "# 문제 설명\n",
    "# 1부터 13까지의 수에서, 1은 1, 10, 11, 12, 13 이렇게 총 6번 등장합니다. \n",
    "# 정수 i, j, k가 매개변수로 주어질 때, i부터 j까지 k가 몇 번 등장하는지 \n",
    "# return 하도록 solution 함수를 완성해주세요.\n",
    "\n",
    "def howmanyk(i,j,k):\n",
    "    answer = 0\n",
    "    for itg in range(i,j+1):\n",
    "        tmp = str(itg)\n",
    "        for st in tmp:\n",
    "            if st ==str(k):\n",
    "                answer += 1\n",
    "    return answer "
   ]
  },
  {
   "cell_type": "code",
   "execution_count": 5,
   "id": "495bd12f-8e71-4912-98e4-8adcfd82edd4",
   "metadata": {},
   "outputs": [
    {
     "data": {
      "text/plain": [
       "2"
      ]
     },
     "execution_count": 5,
     "metadata": {},
     "output_type": "execute_result"
    }
   ],
   "source": [
    "howmanyk(1,10,1)"
   ]
  },
  {
   "cell_type": "code",
   "execution_count": 1,
   "id": "0bfdb7a9-b514-40b6-9f61-24bf47f0ce40",
   "metadata": {},
   "outputs": [],
   "source": [
    "ll = str(10)"
   ]
  },
  {
   "cell_type": "code",
   "execution_count": 36,
   "id": "828b7d3f-c453-4834-8eb5-5a14b9ba087b",
   "metadata": {},
   "outputs": [],
   "source": [
    "# (소인수분해) 문제 설명\n",
    "# 소인수분해란 어떤 수를 소수들의 곱으로 표현하는 것입니다. \n",
    "# 예를 들어 12를 소인수 분해하면 2 * 2 * 3 으로 나타낼 수 있습니다. \n",
    "# 따라서 12의 소인수는 2와 3입니다. \n",
    "# 자연수 n이 매개변수로 주어질 때 \n",
    "# n의 소인수를 오름차순으로 담은 배열을 return하도록 \n",
    "# solution 함수를 완성해주세요.\n",
    "    \n",
    "def primes(n):\n",
    "    answer = []\n",
    "    k = 2\n",
    "    while n // k >=1:\n",
    "        if n%k ==0:\n",
    "            if aprime(k):\n",
    "                answer.append(k)\n",
    "        else:\n",
    "            pass\n",
    "        k+=1\n",
    "    return answer"
   ]
  },
  {
   "cell_type": "code",
   "execution_count": 31,
   "id": "9b10df81-d45a-4776-9987-cc4c4d96fc74",
   "metadata": {},
   "outputs": [],
   "source": [
    "# import math\n",
    "def aprime(num):\n",
    "    answer = 1\n",
    "    for k in range(2,int(math.sqrt(num))+1):\n",
    "        if num%k==0:\n",
    "            answer= 0\n",
    "        else:\n",
    "            pass\n",
    "    return answer"
   ]
  },
  {
   "cell_type": "code",
   "execution_count": 37,
   "id": "2c6aebcf-00b4-48b5-8af6-d6fed419c556",
   "metadata": {},
   "outputs": [
    {
     "data": {
      "text/plain": [
       "[2, 3]"
      ]
     },
     "execution_count": 37,
     "metadata": {},
     "output_type": "execute_result"
    }
   ],
   "source": [
    "primes(12) # [2,3]"
   ]
  },
  {
   "cell_type": "code",
   "execution_count": 38,
   "id": "9e56209e-7967-4f33-a9cf-137a89a480e3",
   "metadata": {},
   "outputs": [
    {
     "data": {
      "text/plain": [
       "'\\n'"
      ]
     },
     "execution_count": 38,
     "metadata": {},
     "output_type": "execute_result"
    }
   ],
   "source": [
    "chr(10)"
   ]
  },
  {
   "cell_type": "code",
   "execution_count": 55,
   "id": "c7c19008-b12d-4203-a483-56f30ba9a217",
   "metadata": {},
   "outputs": [],
   "source": [
    "# (이진수 구하기) 문제 설명\n",
    "# 이진수를 의미하는 두 개의 문자열 bin1과 bin2가 매개변수로 주어질 때, \n",
    "# 두 이진수의 합을 return하도록 solution 함수를 완성해주세요.\n",
    "def binsum(bin1, bin2):\n",
    "    b1 = int(bin1,2)\n",
    "    b2 = int(bin2,2)\n",
    "    answer = b1 + b2\n",
    "    return bin(answer)[2:]\n"
   ]
  },
  {
   "cell_type": "code",
   "execution_count": 56,
   "id": "3db007e9-c6a5-4bc6-ba7d-8f284aee2c81",
   "metadata": {},
   "outputs": [
    {
     "data": {
      "text/plain": [
       "'101'"
      ]
     },
     "execution_count": 56,
     "metadata": {},
     "output_type": "execute_result"
    }
   ],
   "source": [
    "binsum('10','11')"
   ]
  },
  {
   "cell_type": "code",
   "execution_count": 143,
   "id": "6074b39a-7f05-4c8a-ac02-02e0fcc632ff",
   "metadata": {},
   "outputs": [],
   "source": [
    "# (잘라서 배열로 저장하기) 문제 설명\n",
    "# 문자열 my_str과 n이 매개변수로 주어질 때, \n",
    "# my_str을 길이 n씩 잘라서 저장한 배열을 return하도록 \n",
    "# solution 함수를 완성해주세요.\n",
    "\n",
    "def slices(my_str, n):\n",
    "    answer = []\n",
    "    k=1\n",
    "    tmp =''\n",
    "    while len(my_str) > k-1:\n",
    "        if n*(len(my_str)//n) > k-1 and k%n != 0:\n",
    "            tmp += my_str[k-1]\n",
    "        elif n*(len(my_str)//n) >= k-1 and  k%n ==0:\n",
    "            tmp += my_str[k-1]\n",
    "            answer.append(tmp)\n",
    "            tmp = ''\n",
    "        elif n*(len(my_str)//n) <= k-1:\n",
    "            if k  != len(my_str):\n",
    "                tmp += my_str[k-1]\n",
    "            elif k  == len(my_str):\n",
    "                tmp += my_str[k-1]\n",
    "                answer.append(tmp)\n",
    "        k+=1\n",
    "        \n",
    "    return answer"
   ]
  },
  {
   "cell_type": "code",
   "execution_count": 144,
   "id": "d84f7f87-1744-4ba3-ac7d-602975647b4f",
   "metadata": {},
   "outputs": [
    {
     "name": "stdout",
     "output_type": "stream",
     "text": [
      "1,2,3,4,5,7,8,9,10,11 1\n",
      "1,2,3,4,5,7,8,9,10,11 2\n",
      "1,2,3,4,5,7,8,9,10,11 3\n",
      "1,2,3,4,5,7,8,9,10,11 4\n",
      "1,2,3,4,5,7,8,9,10,11 5\n",
      "6,12 6\n",
      "1,2,3,4,5,7,8,9,10,11 7\n",
      "1,2,3,4,5,7,8,9,10,11 8\n",
      "1,2,3,4,5,7,8,9,10,11 9\n",
      "1,2,3,4,5,7,8,9,10,11 10\n",
      "1,2,3,4,5,7,8,9,10,11 11\n",
      "6,12 12\n",
      "13,14,15 13\n",
      "13,14,15 14\n",
      "13,14,15 15\n",
      "16 16\n"
     ]
    },
    {
     "data": {
      "text/plain": [
       "['abc1Ad', 'dfggg4', '556b']"
      ]
     },
     "execution_count": 144,
     "metadata": {},
     "output_type": "execute_result"
    }
   ],
   "source": [
    "slices(\"abc1Addfggg4556b\",6)"
   ]
  },
  {
   "cell_type": "code",
   "execution_count": 150,
   "id": "76caf398-17f3-4839-90cc-034897b095ce",
   "metadata": {},
   "outputs": [],
   "source": [
    "# (컨트롤제트)문제 설명\n",
    "# 숫자와 \"Z\"가 공백으로 구분되어 담긴 문자열이 주어집니다. \n",
    "# 문자열에 있는 숫자를 차례대로 더하려고 합니다. \n",
    "# 이 때 \"Z\"가 나오면 바로 전에 더했던 숫자를 뺀다는 뜻입니다. \n",
    "# 숫자와 \"Z\"로 이루어진 문자열 s가 주어질 때, \n",
    "# 머쓱이가 구한 값을 return 하도록 solution 함수를 완성해보세요.\n",
    "\n",
    "def controlz(s):\n",
    "    answer = 0\n",
    "    tmplist = s.split()\n",
    "    for i,tmp in enumerate(tmplist):\n",
    "        if tmp == 'Z':\n",
    "            answer -= int(tmplist[i-1])\n",
    "        else:\n",
    "            answer+= int(tmp)\n",
    "    return answer"
   ]
  },
  {
   "cell_type": "code",
   "execution_count": 151,
   "id": "09865e42-8ef1-419a-9a42-d94e9c0e5150",
   "metadata": {},
   "outputs": [
    {
     "data": {
      "text/plain": [
       "4"
      ]
     },
     "execution_count": 151,
     "metadata": {},
     "output_type": "execute_result"
    }
   ],
   "source": [
    "controlz(\"1 2 Z 3\")"
   ]
  },
  {
   "cell_type": "code",
   "execution_count": null,
   "id": "f18af1dc-3116-4223-bc98-43e70f967e20",
   "metadata": {},
   "outputs": [],
   "source": [
    "# s\tresult\n",
    "# \"1 2 Z 3\"\t4\n",
    "# \"10 20 30 40\"\t100\n"
   ]
  },
  {
   "cell_type": "code",
   "execution_count": 145,
   "id": "0ce3d574-8071-4c9e-b250-5d9f4b6ba086",
   "metadata": {},
   "outputs": [],
   "source": [
    "tests = \"1 2 Z 3\"\n",
    "testlist = tests.split()"
   ]
  },
  {
   "cell_type": "code",
   "execution_count": 164,
   "id": "17b7267f-dac6-4078-9893-233635fbc9dd",
   "metadata": {},
   "outputs": [],
   "source": [
    "# (공던지기) 문제 설명\n",
    "# 머쓱이는 친구들과 동그랗게 서서 공 던지기 게임을 하고 있습니다. \n",
    "# 공은 1번부터 던지며 오른쪽으로 한 명을 건너뛰고 그다음 사람에게만 던질 수 있습니다. \n",
    "# 친구들의 번호가 들어있는 정수 배열 numbers와 정수 K가 주어질 때, \n",
    "# k번째로 공을 던지는 사람의 번호는 무엇인지 return 하도록 solution 함수를 완성해보세요.\n",
    "# numbers\tk\tresult\n",
    "# [1, 2, 3, 4]\t2\t3\n",
    "# [1, 2, 3, 4, 5, 6]\t5\t3\n",
    "# [1, 2, 3]\t3\t2\n",
    "\n",
    "def ballplay(numbers, k):\n",
    "    answer = 0\n",
    "    mx = len(numbers)\n",
    "    ball = 2*k-1\n",
    "    if ball%mx==0:\n",
    "        answer = mx\n",
    "    else:\n",
    "        answer = ball%mx\n",
    "    return answer"
   ]
  },
  {
   "cell_type": "code",
   "execution_count": 165,
   "id": "c7bf310c-96bf-4f39-afa6-4c2fcec71934",
   "metadata": {},
   "outputs": [
    {
     "data": {
      "text/plain": [
       "3"
      ]
     },
     "execution_count": 165,
     "metadata": {},
     "output_type": "execute_result"
    }
   ],
   "source": [
    "ballplay([1,2,3],5)"
   ]
  },
  {
   "cell_type": "code",
   "execution_count": 226,
   "id": "f2b8138f-cce1-4cf2-b276-ff5507b4942c",
   "metadata": {},
   "outputs": [],
   "source": [
    "# (문자열 계산하기) 문제 설명\n",
    "# my_string은 \"3 + 5\"처럼 문자열로 된 수식입니다. \n",
    "# 문자열 my_string이 매개변수로 주어질 때, \n",
    "# 수식을 계산한 값을 return 하는 solution 함수를 완성해주세요.\n",
    "\n",
    "def calcul(my_string):\n",
    "    answer = 0\n",
    "    strings = my_string.split()\n",
    "    for i, st in enumerate(strings):\n",
    "        if i == 0:\n",
    "            answer += int(st)\n",
    "        else:\n",
    "            if strings[i-1] =='-':\n",
    "                answer -= int(strings[i])\n",
    "            elif strings[i-1] == '+':\n",
    "                answer += int(strings[i])\n",
    "    return answer "
   ]
  },
  {
   "cell_type": "code",
   "execution_count": 227,
   "id": "3b3d37cc-10e6-426c-9b5c-1031e8692536",
   "metadata": {},
   "outputs": [
    {
     "data": {
      "text/plain": [
       "51"
      ]
     },
     "execution_count": 227,
     "metadata": {},
     "output_type": "execute_result"
    }
   ],
   "source": [
    "calcul(\"50 + 3 - 2\")"
   ]
  },
  {
   "cell_type": "code",
   "execution_count": 244,
   "id": "9d9fe593-2dee-4520-920d-96d4b64c71d2",
   "metadata": {},
   "outputs": [],
   "source": [
    "# (영어가 싫어요)문제 설명\n",
    "# 영어가 싫은 머쓱이는 영어로 표기되어있는 숫자를 수로 바꾸려고 합니다. \n",
    "# 문자열 numbers가 매개변수로 주어질 때, \n",
    "# numbers를 정수로 바꿔 return 하도록 solution 함수를 완성해 주세요.\n",
    "# numbers\tresult\n",
    "# \"onetwothreefourfivesixseveneightnine\"\t123456789\n",
    "# \"onefourzerosixseven\"\t14067\n",
    "\n",
    "def noenglish(numbers):\n",
    "    numbers = numbers.replace(\"one\",\"1\")\n",
    "    numbers = numbers.replace(\"two\",\"2\")\n",
    "    numbers = numbers.replace(\"three\",\"3\")\n",
    "    numbers = numbers.replace(\"four\",\"4\")\n",
    "    numbers = numbers.replace(\"five\",\"5\")\n",
    "    numbers = numbers.replace(\"six\",\"6\")\n",
    "    numbers = numbers.replace(\"seven\",\"7\")\n",
    "    numbers = numbers.replace(\"eight\",\"8\")\n",
    "    numbers = numbers.replace(\"nine\",\"9\")\n",
    "    numbers = numbers.replace(\"zero\",\"0\")\n",
    "    return int(numbers)"
   ]
  },
  {
   "cell_type": "code",
   "execution_count": 245,
   "id": "16c9cba4-0ce0-440c-9034-29cbd686a683",
   "metadata": {},
   "outputs": [
    {
     "data": {
      "text/plain": [
       "123456789"
      ]
     },
     "execution_count": 245,
     "metadata": {},
     "output_type": "execute_result"
    }
   ],
   "source": [
    "noenglish(\"onetwothreefourfivesixseveneightnine\")"
   ]
  },
  {
   "cell_type": "code",
   "execution_count": 272,
   "id": "a2849d91-8120-44f8-a592-dfe7e8c19979",
   "metadata": {},
   "outputs": [],
   "source": [
    "# (구슬을 나누는 경우의 수) 문제 설명\n",
    "# 머쓱이는 구슬을 친구들에게 나누어주려고 합니다. \n",
    "# 구슬은 모두 다르게 생겼습니다. 머쓱이가 갖고 있는 구슬의 개수 balls와 \n",
    "# 친구들에게 나누어 줄 구슬 개수 share이 매개변수로 주어질 때,\n",
    "# balls개의 구슬 중 share개의 구슬을 고르는 \n",
    "# 가능한 모든 경우의 수를 return 하는 solution 함수를 완성해주세요.\n",
    "# balls\tshare\tresult\n",
    "# 3\t2\t3\n",
    "# 5\t3\t10\n",
    "\n",
    "def divideballs(balls,share):\n",
    "    tmp = 1\n",
    "    for nume in range(share+1,balls+1,1):\n",
    "        tmp *= nume\n",
    "    for deno in range(1,(balls-share)+1):\n",
    "        tmp = tmp/deno\n",
    "    return int(tmp)"
   ]
  },
  {
   "cell_type": "code",
   "execution_count": 299,
   "id": "0005456b-15bc-4003-b84e-793c7a8e867a",
   "metadata": {},
   "outputs": [
    {
     "data": {
      "text/plain": [
       "120"
      ]
     },
     "execution_count": 299,
     "metadata": {},
     "output_type": "execute_result"
    }
   ],
   "source": [
    "divideballs(10,3)"
   ]
  },
  {
   "cell_type": "code",
   "execution_count": 307,
   "id": "fc8222af-3f39-4ceb-9b13-6c10f51f893f",
   "metadata": {},
   "outputs": [],
   "source": [
    "# (삼각형의 완성조건 (2))문제 설명\n",
    "# 선분 세 개로 삼각형을 만들기 위해서는 다음과 같은 조건을 만족해야 합니다.\n",
    "\n",
    "# 가장 긴 변의 길이는 다른 두 변의 길이의 합보다 작아야 합니다.\n",
    "# 삼각형의 두 변의 길이가 담긴 배열 sides이 매개변수로 주어집니다. \n",
    "# 나머지 한 변이 될 수 있는 정수의 개수를 return하도록 solution 함수를 완성해주세요.\n",
    "# 입출력 예\n",
    "# sides\tresult\n",
    "# [1, 2]\t1\n",
    "# [3, 6]\t5\n",
    "# [11, 7]\t13\n",
    "# a,b c:long => a+b > c => \n",
    "# a, b:long, c => a+c > b => b - a \n",
    "def triangle(sides):\n",
    "    result = 0\n",
    "    longer = max(sides)\n",
    "    short = min(sides)\n",
    "    result += sum(sides) - longer -1\n",
    "    print(result)\n",
    "    result += longer - short\n",
    "    print(result)\n",
    "    return result "
   ]
  },
  {
   "cell_type": "code",
   "execution_count": 308,
   "id": "659634bf-2f09-4a17-9f4d-c38548b19700",
   "metadata": {},
   "outputs": [
    {
     "name": "stdout",
     "output_type": "stream",
     "text": [
      "6\n",
      "10\n"
     ]
    },
    {
     "data": {
      "text/plain": [
       "10"
      ]
     },
     "execution_count": 308,
     "metadata": {},
     "output_type": "execute_result"
    }
   ],
   "source": [
    "triangle([11,7])"
   ]
  },
  {
   "cell_type": "code",
   "execution_count": 301,
   "id": "d819f575-169f-4950-92bd-5d0414633ba4",
   "metadata": {},
   "outputs": [],
   "source": [
    "alist = [2,3,4]"
   ]
  },
  {
   "cell_type": "code",
   "execution_count": 302,
   "id": "ccc1fef7-9015-44b2-9b08-fc40b72f7076",
   "metadata": {},
   "outputs": [
    {
     "data": {
      "text/plain": [
       "9"
      ]
     },
     "execution_count": 302,
     "metadata": {},
     "output_type": "execute_result"
    }
   ],
   "source": [
    "sum(alist)"
   ]
  },
  {
   "cell_type": "code",
   "execution_count": 354,
   "id": "b3cf7087-3f4f-4189-b7aa-0c80b742478f",
   "metadata": {},
   "outputs": [],
   "source": [
    "# (외계어 사전) 문제 설명\n",
    "# PROGRAMMERS-962 행성에 불시착한 우주비행사 머쓱이는 \n",
    "# 외계행성의 언어를 공부하려고 합니다.\n",
    "# 알파벳이 담긴 배열 spell과 외계어 사전 dic이 매개변수로 주어집니다. \n",
    "# spell에 담긴 알파벳을 한번씩만 모두 사용한 단어가\n",
    "# dic에 존재한다면 1, 존재하지 않는다면 2를 return하도록 \n",
    "# solution 함수를 완성해주세요.\n",
    "# 입출력 예\n",
    "# spell\tdic\tresult\n",
    "# [\"p\", \"o\", \"s\"]\t[\"sod\", \"eocd\", \"qixm\", \"adio\", \"soo\"]\t2\n",
    "# [\"z\", \"d\", \"x\"]\t[\"def\", \"dww\", \"dzx\", \"loveaw\"]\t1\n",
    "# [\"s\", \"o\", \"m\", \"d\"]\t[\"moos\", \"dzx\", \"smm\", \"sunmmo\", \"som\"]\t2\n",
    "# 입출력 예 설명\n",
    "# 입출력 예 #1\n",
    "\n",
    "# \"p\", \"o\", \"s\" 를 조합해 만들 수 있는 단어가 dic에 존재하지 않습니다. 따라서 2를 return합니다.\n",
    "# 입출력 예 #2\n",
    "\n",
    "# \"z\", \"d\", \"x\" 를 조합해 만들 수 있는 단어 \"dzx\"가 dic에 존재합니다. 따라서 1을 return합니다.\n",
    "# 입출력 예 #3\n",
    "\n",
    "# \"s\", \"o\", \"m\", \"d\" 를 조합해 만들 수 있는 단어가 dic에 존재하지 않습니다. 따라서 2을 return합니다.\n",
    "# 유의사항\n",
    "# 입출력 예 #3 에서 \"moos\", \"smm\", \"som\"도 \"s\", \"o\", \"m\", \"d\" 를 조합해 만들 수 있지만 spell의 원소를 모두 사용해야 하기 때문에 정답이 아닙니다.\n",
    "def aldic(spell, dic):\n",
    "    answer = 0\n",
    "    notan = 0\n",
    "    spell.sort()\n",
    "    for word in dic:\n",
    "        aword = []\n",
    "        for i,st in enumerate(word):\n",
    "            aword.append(st)\n",
    "            aword.sort()\n",
    "            if len(aword) == len(spell):\n",
    "                if aword == spell:\n",
    "                    answer = 1\n",
    "                else: \n",
    "                    notan = 2\n",
    "    if answer ==1:\n",
    "        return 1\n",
    "    elif answer ==0:\n",
    "        return 2\n"
   ]
  },
  {
   "cell_type": "code",
   "execution_count": 355,
   "id": "6fbea643-7c76-4787-af0a-6eeefd221b43",
   "metadata": {},
   "outputs": [
    {
     "data": {
      "text/plain": [
       "2"
      ]
     },
     "execution_count": 355,
     "metadata": {},
     "output_type": "execute_result"
    }
   ],
   "source": [
    "aldic( [\"a\", \"b\", \"c\"], [\"c\"])"
   ]
  },
  {
   "cell_type": "code",
   "execution_count": 332,
   "id": "5f65532a-1453-4ea8-b306-c8d927433749",
   "metadata": {},
   "outputs": [
    {
     "data": {
      "text/plain": [
       "True"
      ]
     },
     "execution_count": 332,
     "metadata": {},
     "output_type": "execute_result"
    }
   ],
   "source": [
    "alist = ['a','b','c']\n",
    "klist = ['b','c','a']\n",
    "alist.sort() == klist.sort()"
   ]
  },
  {
   "cell_type": "code",
   "execution_count": 365,
   "id": "bfbf9656-9da6-4d76-9925-4956f81cca14",
   "metadata": {},
   "outputs": [],
   "source": [
    "# (직사각형 넓이 구하기) 문제 설명\n",
    "# 2차원 좌표 평면에 변이 축과 평행한 직사각형이 있습니다. \n",
    "# 직사각형 네 꼭짓점의 좌표 [[x1, y1], [x2, y2], [x3, y3], [x4, y4]]가 \n",
    "# 담겨있는 배열 dots가 매개변수로 주어질 때, \n",
    "# 직사각형의 넓이를 return 하도록 solution 함수를 완성해보세요.\n",
    "\n",
    "# 입출력 예\n",
    "# dots\tresult\n",
    "# [[1, 1], [2, 1], [2, 2], [1, 2]]\t1\n",
    "# [[-1, -1], [1, 1], [1, -1], [-1, 1]]\t4\n",
    "\n",
    "def sqarea(dots):\n",
    "    answer = 0\n",
    "    width = max(dots)[0]-min(dots)[0]\n",
    "    height = max(dots)[1]-min(dots)[1]\n",
    "    answer = width * height\n",
    "    return int(answer)"
   ]
  },
  {
   "cell_type": "code",
   "execution_count": 367,
   "id": "9d605bea-7fcd-4f0f-b559-d441c28c12d2",
   "metadata": {},
   "outputs": [
    {
     "data": {
      "text/plain": [
       "4"
      ]
     },
     "execution_count": 367,
     "metadata": {},
     "output_type": "execute_result"
    }
   ],
   "source": [
    "sqarea([[-1, -1], [1, 1], [1, -1], [-1, 1]])"
   ]
  },
  {
   "cell_type": "code",
   "execution_count": 356,
   "id": "b4fc63dc-04d9-426d-83d4-459aecc6642d",
   "metadata": {},
   "outputs": [],
   "source": [
    "ex1 = [[1, 1], [2, 1], [2, 2], [1, 2]]"
   ]
  },
  {
   "cell_type": "code",
   "execution_count": 362,
   "id": "3cb95a47-4741-4fc3-92b7-b315e4ea88dd",
   "metadata": {},
   "outputs": [
    {
     "data": {
      "text/plain": [
       "-1"
      ]
     },
     "execution_count": 362,
     "metadata": {},
     "output_type": "execute_result"
    }
   ],
   "source": [
    "for point in ex1:\n",
    "    point"
   ]
  },
  {
   "cell_type": "code",
   "execution_count": 380,
   "id": "f60e9164-a8ff-4767-8043-5ae8bb6d9fa2",
   "metadata": {},
   "outputs": [],
   "source": [
    "# (캐릭터의 좌표)문제 설명\n",
    "# 머쓱이는 RPG게임을 하고 있습니다. \n",
    "# 게임에는 up, down, left, right 방향키가 있으며 \n",
    "# 각 키를 누르면 위, 아래, 왼쪽, 오른쪽으로 한 칸씩 이동합니다. \n",
    "# 예를 들어 [0,0]에서 up을 누른다면 캐릭터의 좌표는 [0, 1], \n",
    "# down을 누른다면 [0, -1], left를 누른다면 [-1, 0], \n",
    "# right를 누른다면 [1, 0]입니다. 머쓱이가 입력한 방향키의 배열 keyinput와 \n",
    "# 맵의 크기 board이 매개변수로 주어집니다. \n",
    "# 캐릭터는 항상 [0,0]에서 시작할 때 키 입력이 모두 끝난 뒤에 \n",
    "# 캐릭터의 좌표 [x, y]를 return하도록 solution 함수를 완성해주세요.\n",
    "\n",
    "# [0, 0]은 board의 정 중앙에 위치합니다. \n",
    "# 예를 들어 board의 가로 크기가 9라면 캐릭터는 \n",
    "# 왼쪽으로 최대 [-4, 0]까지 오른쪽으로 최대 [4, 0]까지 이동할 수 있습니다.\n",
    "\n",
    "# keyinput\tboard\tresult\n",
    "# [\"left\", \"right\", \"up\", \"right\", \"right\"]\t[11, 11]\t[2, 1]\n",
    "# [\"down\", \"down\", \"down\", \"down\", \"down\"]\t[7, 9]\t[0, -4]\n",
    "\n",
    "\n",
    "def gamemoving(keyinput, board):\n",
    "    # answer = []\n",
    "    position = [0,0]\n",
    "    for move in keyinput:\n",
    "        if move == \"left\" and (position[0]) > -(int(board[0]//2)):\n",
    "            position[0] += -1\n",
    "            print(position)\n",
    "        elif move == \"right\" and (position[0]) < (int(board[0]//2)):\n",
    "            position[0] += 1\n",
    "            print(position)\n",
    "        elif move == \"up\" and (position[1]) < (int(board[1]//2)):\n",
    "            position[1] += 1\n",
    "            print(position)\n",
    "        elif move == \"down\" and (position[1]) >- (int(board[1]//2)):\n",
    "            position[1] += -1\n",
    "            print(position)\n",
    "        else :\n",
    "            pass\n",
    "            print(position)\n",
    "            \n",
    "    return position"
   ]
  },
  {
   "cell_type": "code",
   "execution_count": 381,
   "id": "2b2d68bb-e291-49a5-b81e-0d6d2d4040a6",
   "metadata": {},
   "outputs": [
    {
     "name": "stdout",
     "output_type": "stream",
     "text": [
      "[1, 0]\n",
      "[2, 0]\n",
      "[3, 0]\n",
      "[4, 0]\n",
      "[4, 0]\n",
      "[3, 0]\n"
     ]
    },
    {
     "data": {
      "text/plain": [
       "[3, 0]"
      ]
     },
     "execution_count": 381,
     "metadata": {},
     "output_type": "execute_result"
    }
   ],
   "source": [
    "gamemoving([\"right\", \"right\", \"right\", \"right\", \"right\", \"left\"], [9, 5] )"
   ]
  },
  {
   "cell_type": "code",
   "execution_count": 390,
   "id": "f3ab77f2-7584-40d8-b032-29974385a399",
   "metadata": {},
   "outputs": [],
   "source": [
    "# (종이 자르기)문제 설명\n",
    "# 머쓱이는 큰 종이를 1 x 1 크기\b로 자르려고 합니다. \n",
    "# 예를 들어 2 x 2 크기의 종이를 1 x 1 크기로 자르려면 \n",
    "# 최소 가위질 세 번이 필요합니다.\n",
    "# 정수 M, N이 매개변수로 주어질 때,\n",
    "# M x N 크기의 종이를 최소로 가위질 해야하는 횟수를 return 하도록 \n",
    "# solution 함수를 완성해보세요.\n",
    "# 입출력 예\n",
    "# M\tN\tresult\n",
    "# 2\t2\t3\n",
    "# 2\t5\t9\n",
    "# 1\t1\t0\n",
    "\n",
    "    \n",
    "def paper(M, N):\n",
    "    answer = M*N -1\n",
    "    return answer"
   ]
  },
  {
   "cell_type": "code",
   "execution_count": 391,
   "id": "3a8ed490-ea34-4ccd-8786-cbcdbd17eaf2",
   "metadata": {},
   "outputs": [
    {
     "data": {
      "text/plain": [
       "9"
      ]
     },
     "execution_count": 391,
     "metadata": {},
     "output_type": "execute_result"
    }
   ],
   "source": [
    "paper(2,5)"
   ]
  },
  {
   "cell_type": "code",
   "execution_count": 406,
   "id": "dfc8924a-1fa0-427a-8eb0-fe2c60aa07d6",
   "metadata": {},
   "outputs": [],
   "source": [
    "# (로그인 성공?)문제 설명\n",
    "# 머쓱이는 프로그래머스에 로그인하려고 합니다. \n",
    "# 머쓱이가 입력한 아이디와 패스워드가 담긴 배열 id_pw와 \n",
    "# 회원들의 정보가 담긴 2차원 배열 db가 주어질 때, \n",
    "# 다음과 같이 로그인 성공, 실패에 따른 메시지를 return하도록 \n",
    "# solution 함수를 완성해주세요.\n",
    "\n",
    "# 아이디와 비밀번호가 모두 일치하는 회원정보가 있으면 \n",
    "# \"login\"을 return합니다.\n",
    "# 로그인이 실패했을 때 아이디가 일치하는 회원이 없다면 “fail”를, \n",
    "# 아이디는 일치하지만 비밀번호가 일치하는 회원이 없다면 “wrong pw”를\n",
    "# return 합니다.\n",
    "\n",
    "# 입출력 예\n",
    "# id_pw\tdb\tresult\n",
    "# [\"meosseugi\", \"1234\"]\t// [[\"rardss\", \"123\"], [\"yyoom\", \"1234\"], [\"meosseugi\", \"1234\"]] //\t\"login\"\n",
    "# [\"programmer01\", \"15789\"] //\t[[\"programmer02\", \"111111\"], [\"programmer00\", \"134\"], [\"programmer01\", \"1145\"]] //\t\"wrong pw\"\n",
    "# [\"rabbit04\", \"98761\"] //\t[[\"jaja11\", \"98761\"], [\"krong0313\", \"29440\"], [\"rabbit00\", \"111333\"]]\t// \"fail\"\n",
    "\n",
    "\n",
    "def logins(id_pw, db):\n",
    "    answer = ''\n",
    "    lg = 0\n",
    "    id = 0\n",
    "    wr = 0\n",
    "    for i in range(len(db)):\n",
    "        ppl = db[i]\n",
    "        if ppl[0] == id_pw[0] and ppl[1] == id_pw[1]:\n",
    "            lg = 1\n",
    "        elif ppl[0] == id_pw[0] and ppl[1] != id_pw[1]:\n",
    "            id = 1\n",
    "        elif ppl[0] != id_pw[0]:\n",
    "            wr = 1\n",
    "    if lg==1:\n",
    "        return 'login'\n",
    "    elif lg !=1 and id ==1 :\n",
    "        return  'wrong pw'\n",
    "    elif lg!=1 and id != 1 and wr ==1:\n",
    "        return 'fail'\n",
    "            \n"
   ]
  },
  {
   "cell_type": "code",
   "execution_count": 407,
   "id": "260da322-8496-4550-ae83-f2e743ea49c7",
   "metadata": {},
   "outputs": [
    {
     "name": "stdout",
     "output_type": "stream",
     "text": [
      "['rardss', '123']\n",
      "['yyoom', '1234']\n",
      "['meosseugi', '1234']\n"
     ]
    },
    {
     "data": {
      "text/plain": [
       "'login'"
      ]
     },
     "execution_count": 407,
     "metadata": {},
     "output_type": "execute_result"
    }
   ],
   "source": [
    "logins([\"meosseugi\", \"1234\"],[[\"rardss\", \"123\"], [\"yyoom\", \"1234\"], [\"meosseugi\", \"1234\"]])"
   ]
  },
  {
   "cell_type": "code",
   "execution_count": 401,
   "id": "a4d4befa-410e-4313-bb1f-d39f79f585b7",
   "metadata": {},
   "outputs": [
    {
     "data": {
      "text/plain": [
       "3"
      ]
     },
     "execution_count": 401,
     "metadata": {},
     "output_type": "execute_result"
    }
   ],
   "source": [
    "len([[\"rardss\", \"123\"], [\"yyoom\", \"1234\"], [\"meosseugi\", \"1234\"]])"
   ]
  },
  {
   "cell_type": "code",
   "execution_count": 433,
   "id": "804d238d-470a-4b3b-8049-22ba86962f9a",
   "metadata": {},
   "outputs": [],
   "source": [
    "# (등수 매기기)문제 설명\n",
    "# 영어 점수와 수학 점수의 평균 점수를 기준으로 학생들의 등수를 매기려고 합니다. \n",
    "# 영어 점수와 수학 점수를 담은 2차원 정수 배열 score가 주어질 때, \n",
    "# 영어 점수와 수학 점수의 평균을 기준으로 매긴 등수를 담은 배열을 \n",
    "# return하도록 solution 함수를 완성해주세요.\n",
    "\n",
    "# 입출력 예\n",
    "# score\tresult\n",
    "# [[80, 70], [90, 50], [40, 70], [50, 80]]\t[1, 2, 4, 3]\n",
    "# [[80, 70], [70, 80], [30, 50], [90, 100], [100, 90], [100, 100], [10, 30]]\t[4, 4, 6, 2, 2, 1, 7]\n",
    "\n",
    "\n",
    "def meangrade(score):\n",
    "    answer = []\n",
    "    mean = []\n",
    "    grade = []\n",
    "    for i in range(len(score)):\n",
    "        mean.append(sum(score[i])/2)\n",
    "\n",
    "    sorted_mean = sorted(mean,reverse=True)\n",
    "    grade = [sorted_mean.index(s)+1 for s in mean ]\n",
    "        \n",
    "    return grade\n",
    "\n"
   ]
  },
  {
   "cell_type": "code",
   "execution_count": 434,
   "id": "80bcea80-0f6b-4c1d-a399-2a54da1ccb55",
   "metadata": {},
   "outputs": [
    {
     "data": {
      "text/plain": [
       "[1, 2, 4, 3]"
      ]
     },
     "execution_count": 434,
     "metadata": {},
     "output_type": "execute_result"
    }
   ],
   "source": [
    "meangrade([[80, 70], [90, 50], [40, 70], [50, 80]])"
   ]
  },
  {
   "cell_type": "code",
   "execution_count": 423,
   "id": "c141f497-d1af-4831-ab9f-d4260046f5b4",
   "metadata": {},
   "outputs": [],
   "source": [
    "tests = meangrade([[80, 70], [90, 50], [40, 70], [50, 80]])"
   ]
  },
  {
   "cell_type": "code",
   "execution_count": 432,
   "id": "088fff90-ee91-4263-9fec-715c20d8a5bb",
   "metadata": {},
   "outputs": [
    {
     "data": {
      "text/plain": [
       "[[1, 70.0], [2, 55.0]]"
      ]
     },
     "execution_count": 432,
     "metadata": {},
     "output_type": "execute_result"
    }
   ],
   "source": [
    "tests[1:3]"
   ]
  },
  {
   "cell_type": "code",
   "execution_count": 202,
   "id": "fab7260d-6626-4903-9d84-5209b5d30ed9",
   "metadata": {},
   "outputs": [],
   "source": [
    "# (치킨 쿠폰)문제 설명\n",
    "# 프로그래머스 치킨은 치킨을 시켜먹으면 한 마리당 쿠폰을 한 장 발급합니다. \n",
    "# 쿠폰을 열 장 모으면 치킨을 한 마리 서비스로 받을 수 있고, \n",
    "# 서비스 치킨에도 쿠폰이 발급됩니다. \n",
    "# 시켜먹은 치킨의 수 chicken이 매개변수로 주어질 때 \n",
    "# 받을 수 있는 최대 서비스 치킨의 수를 return하도록 solution 함수를 완성해주세요.\n",
    "\n",
    "# 입출력 예\n",
    "# chicken\tresult\n",
    "# 100\t11\n",
    "# 1,081\t120\n",
    "\n",
    "def coupon(chicken):\n",
    "    # 쿠폰수 = 치킨\n",
    "    # (쿠폰수/10)의 몫 => + 서비스\n",
    "    \n",
    "    # ((쿠폰수/10)의 나머지) + 서비스) /  10의 몫 => + 서비스\n",
    "    # :를 반복 -> ((쿠폰수/10)의 나머지) + 서비스)가 10보다 큰동안 반복\n",
    "    \n",
    "    ncoup = chicken\n",
    "    services = 0\n",
    "    newservices = chicken//10\n",
    "    ncoup = chicken%10+newservices\n",
    "    services += newservices\n",
    "    print(newservices, ncoup, services)\n",
    "    while ncoup>=10:\n",
    "        newservices = ncoup//10\n",
    "        ncoup = ncoup%10 + newservices\n",
    "        services += newservices\n",
    "        print(newservices, ncoup, services)\n",
    "        # n = chicken //10 \n",
    "        # answer += n\n",
    "        # coup = chicken%10\n",
    "        # while n < 10:\n",
    "        #     coup += n //10\n",
    "        #     n = n //10\n",
    "        \n",
    "    return services\n",
    "\n",
    "\n"
   ]
  },
  {
   "cell_type": "code",
   "execution_count": 204,
   "id": "665e498d-d8db-4c45-8afd-b6f12b5fa374",
   "metadata": {},
   "outputs": [
    {
     "name": "stdout",
     "output_type": "stream",
     "text": [
      "108 109 108\n",
      "10 19 118\n",
      "1 10 119\n",
      "1 1 120\n"
     ]
    },
    {
     "data": {
      "text/plain": [
       "120"
      ]
     },
     "execution_count": 204,
     "metadata": {},
     "output_type": "execute_result"
    }
   ],
   "source": [
    "coupon(1081)"
   ]
  },
  {
   "cell_type": "code",
   "execution_count": 199,
   "id": "88422f4f-3f7a-4c10-bf90-eaa5e88c6edf",
   "metadata": {},
   "outputs": [],
   "source": [
    "# (저주의 숫자 3)문제 설명\n",
    "# 3x 마을 사람들은 3을 저주의 숫자라고 생각하기 때문에 \n",
    "# 3의 배수와 숫자 3을 사용하지 않습니다. \n",
    "# 3x 마을 사람들의 숫자는 다음과 같습니다.\n",
    "\n",
    "# 10진법\t3x 마을에서 쓰는 숫자\t10진법\t3x 마을에서 쓰는 숫자\n",
    "# 1\t1\t6\t8\n",
    "# 2\t2\t7\t10\n",
    "# 3\t4\t8\t11\n",
    "# 4\t5\t9\t14\n",
    "# 5\t7\t10\t16\n",
    "# 정수 n이 매개변수로 주어질 때, \n",
    "# n을 3x 마을에서 사용하는 숫자로 바꿔 return하도록\n",
    "# solution 함수를 완성해주세요.\n",
    "\n",
    "def nothree(n):\n",
    "    k = 0\n",
    "    for i in range(n):\n",
    "        k+=1\n",
    "        if k%3 ==0:\n",
    "            k +=1\n",
    "        while '3' in str(k):\n",
    "            k+=1\n",
    "        if k%3 ==0:\n",
    "            k+=1\n",
    "        # print(i,k)\n",
    "    return k\n"
   ]
  },
  {
   "cell_type": "code",
   "execution_count": 460,
   "id": "1b78c33f-aa41-4d39-88d3-be972fead311",
   "metadata": {},
   "outputs": [
    {
     "data": {
      "text/plain": [
       "25"
      ]
     },
     "execution_count": 460,
     "metadata": {},
     "output_type": "execute_result"
    }
   ],
   "source": [
    "nothree(15)"
   ]
  },
  {
   "cell_type": "code",
   "execution_count": 482,
   "id": "edbe9e2a-d990-461e-975b-ed19ebed90de",
   "metadata": {},
   "outputs": [],
   "source": [
    "# (유한소수 판별하기)문제 설명\n",
    "# 소수점 아래 숫자가 계속되지 않고 유한개인 소수를 유한소수라고 합니다. \n",
    "# 분수를 소수로 고칠 때 유한소수로 나타낼 수 있는 분수인지 판별하려고 합니다. \n",
    "# 유한소수가 되기 위한 분수의 조건은 다음과 같습니다.\n",
    "\n",
    "# 기약분수로 나타내었을 때, 분모의 소인수가 2와 5만 존재해야 합니다.\n",
    "# 두 정수 a와 b가 매개변수로 주어질 때, a/b가 유한소수이면 1을,\n",
    "# 무한소수라면 2를 return하도록 solution 함수를 완성해주세요.\n",
    "\n",
    "# 입출력 예\n",
    "# a\tb\tresult\n",
    "# 7\t20\t1\n",
    "# 11\t22\t1\n",
    "# 12\t21\t2\n",
    "# 입출력 예 설명\n",
    "# 입출력 예 #1\n",
    "\n",
    "# 분수 7/20은 기약분수 입니다. 분모 20의 소인수가 2, 5 이기 때문에 유한소수입니다. 따라서 1을 return합니다.\n",
    "# 입출력 예 #2\n",
    "\n",
    "# 분수 11/22는 기약분수로 나타내면 1/2 입니다. 분모 2는 소인수가 2 뿐이기 때문에 유한소수 입니다. 따라서 1을 return합니다.\n",
    "# 입출력 예 #3\n",
    "\n",
    "# 분수 12/21는 기약분수로 나타내면 4/7 입니다. 분모 7은 소인수가 7 이므로 무한소수입니다. 따라서 2를 return합니다.\n",
    "# Hint\n",
    "# 분자와 분모의 최대공약수로 약분하면 기약분수를 만들 수 있습니다.\n",
    "# 정수도 유한소수로 분류합니다.\n",
    "\n",
    "def decilimit(a, b):\n",
    "    answer = 0\n",
    "    cd = gcd(a,b)\n",
    "    try: \n",
    "        if a//b > 1 :\n",
    "            if a//b>=1 and a%b ==0:\n",
    "                answer = 1\n",
    "            else:\n",
    "                tmp = a/cd\n",
    "                if tmp%2==0 or tmp%5==0:\n",
    "                    answer = 1\n",
    "                else:\n",
    "                    answer = 2\n",
    "            \n",
    "        elif b//a >= 1:\n",
    "            if b//a >=1 and b%a ==0:\n",
    "                answer =1\n",
    "            else: \n",
    "                tmp = b/cd\n",
    "                if tmp%2 ==0 or tmp%5==0:\n",
    "                    answer = 1\n",
    "                else:\n",
    "                    answer = 2   \n",
    "        return answer\n",
    "    except ZeroDivisionError:\n",
    "        return 1\n",
    "        "
   ]
  },
  {
   "cell_type": "code",
   "execution_count": 479,
   "id": "5f19af3b-f4fc-4604-8d03-f53c8b818364",
   "metadata": {},
   "outputs": [],
   "source": [
    "def gcd(d1, d2):\n",
    "    if d1%d2==0:\n",
    "        return d2\n",
    "    elif d2%d1==0:\n",
    "        return d1\n",
    "    else:\n",
    "        dv = 1\n",
    "        for i in range(1,d1):\n",
    "            if i ==1 and d1%2==0 and d2%2 ==0:\n",
    "                dv = 2\n",
    "            if i> 1 and d1%i==0:\n",
    "                if d2%i==0:\n",
    "                    dv = max(dv, i)\n",
    "                else:\n",
    "                    pass\n",
    "            else:\n",
    "                return 1\n",
    "    return dv"
   ]
  },
  {
   "cell_type": "code",
   "execution_count": 486,
   "id": "05ce5548-dd00-4b6d-b896-ac921f622b4f",
   "metadata": {},
   "outputs": [
    {
     "data": {
      "text/plain": [
       "1"
      ]
     },
     "execution_count": 486,
     "metadata": {},
     "output_type": "execute_result"
    }
   ],
   "source": [
    "decilimit(6,30)"
   ]
  },
  {
   "cell_type": "code",
   "execution_count": 464,
   "id": "1995abe1-c8ed-4195-a421-698e988ede34",
   "metadata": {},
   "outputs": [
    {
     "data": {
      "text/plain": [
       "1"
      ]
     },
     "execution_count": 464,
     "metadata": {},
     "output_type": "execute_result"
    }
   ],
   "source": [
    "gcd(5,2)"
   ]
  },
  {
   "cell_type": "code",
   "execution_count": 467,
   "id": "5335392c-d2b3-4cc7-8f0f-8ed3d4049688",
   "metadata": {},
   "outputs": [
    {
     "name": "stdout",
     "output_type": "stream",
     "text": [
      "2\n"
     ]
    }
   ],
   "source": [
    "if 1%2 ==0 or 1%5==0:\n",
    "    answer = 1\n",
    "else:\n",
    "    answer = 2\n",
    "print(answer)"
   ]
  },
  {
   "cell_type": "code",
   "execution_count": 544,
   "id": "b4603245-f20c-47f3-94d0-1514ef11d20f",
   "metadata": {},
   "outputs": [],
   "source": [
    "def dlimit(a, b):\n",
    "    answer = 0\n",
    "    k=1\n",
    "    denom = b\n",
    "    while a%k ==0 and b%k==0:\n",
    "        # print(k)\n",
    "        k+=1\n",
    "    if k ==2:\n",
    "        if b == 1:\n",
    "            answer = 1\n",
    "        else: \n",
    "            pr = 5\n",
    "            npr = 2\n",
    "            prd = denom//pr\n",
    "            nprd = denom//npr\n",
    "            while ii<5 or prd%pr==0 or nprd%npr ==0:\n",
    "                pr = pr*5\n",
    "                npr = npr*2\n",
    "                prd = prd//pr\n",
    "                nprd = nprd//npr\n",
    "                ii+=1\n",
    "            if denom/\n",
    "        else:\n",
    "            answer = 2\n",
    "    else:\n",
    "        print(k)\n",
    "        denom = b//(k-1)\n",
    "        if denom==2 or denom==5:\n",
    "            answer = 1\n",
    "        else:\n",
    "            answer = 2\n",
    "\n",
    "    return answer"
   ]
  },
  {
   "cell_type": "code",
   "execution_count": 548,
   "id": "872f82ba-cbc1-47ba-bfe1-854ecbcf96be",
   "metadata": {},
   "outputs": [
    {
     "data": {
      "text/plain": [
       "2"
      ]
     },
     "execution_count": 548,
     "metadata": {},
     "output_type": "execute_result"
    }
   ],
   "source": [
    "dlimit(7,20)"
   ]
  },
  {
   "cell_type": "code",
   "execution_count": 504,
   "id": "7ece61ee-b742-430a-8782-755ef32cb71d",
   "metadata": {},
   "outputs": [
    {
     "data": {
      "text/plain": [
       "0.22727272727272727"
      ]
     },
     "execution_count": 504,
     "metadata": {},
     "output_type": "execute_result"
    }
   ],
   "source": [
    "# 입력값 〉 5, 1\n",
    "# 기댓값 〉 1\n",
    "\n",
    "# 입력값 〉 30, 6\n",
    "# 기댓값 〉 1\n",
    "\n",
    "# 입력값 〉 6, 30\n",
    "# 기댓값 〉 1\n",
    "\n",
    "# 입력값 〉 15, 22\n",
    "# 기댓값 〉 2\n",
    "\n",
    "# 입력값 〉 31, 14\n",
    "# 기댓값 〉 2"
   ]
  },
  {
   "cell_type": "code",
   "execution_count": 609,
   "id": "abfc89cc-0320-4d9f-b0b6-3041c582f4ce",
   "metadata": {},
   "outputs": [],
   "source": [
    "# (특이한 정렬)문제 설명\n",
    "# 정수 n을 기준으로 n과 가까운 수부터 정렬하려고 합니다. \n",
    "# 이때 n으로부터의 거리가 같다면 더 큰 수를 앞에 오도록 배치합니다. \n",
    "# 정수가 담긴 배열 numlist와 정수 n이 주어질 때 \n",
    "# numlist의 원소를 n으로부터 가까운 순서대로 정렬한 배열을 return하도록 \n",
    "# solution 함수를 완성해주세요.\n",
    "\n",
    "# 제한사항\n",
    "# 1 ≤ n ≤ 10,000\n",
    "# 1 ≤ numlist의 원소 ≤ 10,000\n",
    "# 1 ≤ numlist의 길이 ≤ 100\n",
    "# numlist는 중복된 원소를 갖지 않습니다.\n",
    "# 입출력 예\n",
    "# numlist\tn\tresult\n",
    "# [1, 2, 3, 4, 5, 6]\t4\t[4, 5, 3, 6, 2, 1]\n",
    "# [10000,20,36,47,40,6,10,7000]\t30\t[36, 40, 20, 47, 10, 6, 7000, 10000]\n",
    "\n",
    "def specialsort(numlist, n):\n",
    "    answer = []\n",
    "    sub = [x - n for x in numlist]\n",
    "    sub.sort(reverse=True)\n",
    "    sub2 = sub.copy()\n",
    "    mi = []\n",
    "    pu =[]\n",
    "    ind = 0\n",
    "    while sub2:\n",
    "        nk = sub2.pop()\n",
    "        if nk < 0:\n",
    "            mi.append(nk)\n",
    "        elif nk>=0:\n",
    "            pu.append(nk)\n",
    "    while mu or pu:\n",
    "        if\n",
    "            \n",
    "        \n",
    "    # for i in range(len(sub)):\n",
    "    #     answer.append(sub[i]+n)\n",
    "        \n",
    "    return answer"
   ]
  },
  {
   "cell_type": "code",
   "execution_count": 610,
   "id": "9c80d6e1-0d5a-4c10-b4b5-b2a767d13fc0",
   "metadata": {},
   "outputs": [
    {
     "name": "stdout",
     "output_type": "stream",
     "text": [
      "[2, 1, 0, -1, -2, -3]\n"
     ]
    },
    {
     "data": {
      "text/plain": [
       "[]"
      ]
     },
     "execution_count": 610,
     "metadata": {},
     "output_type": "execute_result"
    }
   ],
   "source": [
    "specialsort([1, 2, 3, 4, 5, 6],\t4)"
   ]
  },
  {
   "cell_type": "code",
   "execution_count": 602,
   "id": "8495ade6-3a56-4654-864a-e93172d6bea4",
   "metadata": {},
   "outputs": [
    {
     "name": "stdout",
     "output_type": "stream",
     "text": [
      "1\n",
      "2\n",
      "3\n",
      "4\n",
      "5\n"
     ]
    }
   ],
   "source": [
    "tests = [1, 2, 3, 4, 5, 6]\n",
    "for x in tests:\n",
    "    print(x)\n",
    "    if x > 4:\n",
    "        tests.remove(x)"
   ]
  },
  {
   "cell_type": "code",
   "execution_count": 587,
   "id": "bfbb058d-be9d-4c7f-afbf-e7f93765dcd0",
   "metadata": {},
   "outputs": [
    {
     "data": {
      "text/plain": [
       "[1, 2, 3, 4, 6]"
      ]
     },
     "execution_count": 587,
     "metadata": {},
     "output_type": "execute_result"
    }
   ],
   "source": [
    "tests"
   ]
  },
  {
   "cell_type": "code",
   "execution_count": null,
   "id": "d54de424-8a79-4033-b785-0e87b69fd64c",
   "metadata": {},
   "outputs": [],
   "source": []
  }
 ],
 "metadata": {
  "kernelspec": {
   "display_name": "Python 3 (ipykernel)",
   "language": "python",
   "name": "python3"
  },
  "language_info": {
   "codemirror_mode": {
    "name": "ipython",
    "version": 3
   },
   "file_extension": ".py",
   "mimetype": "text/x-python",
   "name": "python",
   "nbconvert_exporter": "python",
   "pygments_lexer": "ipython3",
   "version": "3.9.18"
  }
 },
 "nbformat": 4,
 "nbformat_minor": 5
}
